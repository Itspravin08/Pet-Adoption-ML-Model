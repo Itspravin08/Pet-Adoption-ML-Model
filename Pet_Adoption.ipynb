{
  "nbformat": 4,
  "nbformat_minor": 0,
  "metadata": {
    "colab": {
      "name": "Pet Adoption.ipynb",
      "provenance": [],
      "collapsed_sections": []
    },
    "kernelspec": {
      "name": "python3",
      "display_name": "Python 3"
    },
    "language_info": {
      "name": "python"
    }
  },
  "cells": [
    {
      "cell_type": "markdown",
      "source": [
        "#**Pet Adoption**\n",
        "\n",
        "##Problem\n",
        "\n",
        "Problem Statement\n",
        "\n",
        "A leading pet adoption agency is planning to create a virtual tour experience for their customers showcasing all animals that are available in their shelter. To enable this tour experience, you are required to build a Machine Learning model that determines type and breed of the animal based on its physical attributes and other factors.\n",
        "\n",
        "\n",
        "It is a multi-label or multi output classification problem.\n",
        "\n",
        " You have to predict two labels: 'breed_catagory' and 'pet_catagory'.\n",
        "Formally, multi-label classification is the approach of finding a model that maps inputs, x to binary vectors, y (assigning a value of 0 or 1 for each element (label) in y).\n",
        "\n",
        "How to solve it??\n",
        "The best solution here is to train two models.\n",
        "Build one classification model and predict the output.\n",
        "Use the predicted output of 1st model as input feature to 2nd model.\n",
        "you can also try multi-class classification i.e., predicting both labels simultaneously, but it will give you poor score."
      ],
      "metadata": {
        "id": "AFh2_DW2cpGa"
      }
    },
    {
      "cell_type": "markdown",
      "source": [
        "##**Import Libraries**"
      ],
      "metadata": {
        "id": "bJHeClY9nRyI"
      }
    },
    {
      "cell_type": "code",
      "execution_count": 1,
      "metadata": {
        "id": "GNXuXHJaktoO"
      },
      "outputs": [],
      "source": [
        "import numpy as np\n",
        "import pandas as pd\n",
        "import matplotlib.pyplot as plt\n",
        "import seaborn as sns"
      ]
    },
    {
      "cell_type": "markdown",
      "source": [
        "##**Load DataSEets Form Train And Test 'csv' File using Pandas lib Function**"
      ],
      "metadata": {
        "id": "tsW6luTIn3Yq"
      }
    },
    {
      "cell_type": "markdown",
      "source": [
        "## **Load Train DataSets**"
      ],
      "metadata": {
        "id": "-nySO4C_qI8e"
      }
    },
    {
      "cell_type": "code",
      "source": [
        "\n",
        "\n",
        "Train_DataSets = pd.read_csv(\"train.csv\")\n",
        "Train_DataSets.head()"
      ],
      "metadata": {
        "colab": {
          "base_uri": "https://localhost:8080/",
          "height": 206
        },
        "id": "COsL6zlkoRfS",
        "outputId": "d34c5657-279d-437d-c07b-a51f00a6fd9a"
      },
      "execution_count": 2,
      "outputs": [
        {
          "output_type": "execute_result",
          "data": {
            "text/html": [
              "\n",
              "  <div id=\"df-c69e172b-e9d1-4a1f-b4b6-86d8cdd2e210\">\n",
              "    <div class=\"colab-df-container\">\n",
              "      <div>\n",
              "<style scoped>\n",
              "    .dataframe tbody tr th:only-of-type {\n",
              "        vertical-align: middle;\n",
              "    }\n",
              "\n",
              "    .dataframe tbody tr th {\n",
              "        vertical-align: top;\n",
              "    }\n",
              "\n",
              "    .dataframe thead th {\n",
              "        text-align: right;\n",
              "    }\n",
              "</style>\n",
              "<table border=\"1\" class=\"dataframe\">\n",
              "  <thead>\n",
              "    <tr style=\"text-align: right;\">\n",
              "      <th></th>\n",
              "      <th>pet_id</th>\n",
              "      <th>issue_date</th>\n",
              "      <th>listing_date</th>\n",
              "      <th>condition</th>\n",
              "      <th>color_type</th>\n",
              "      <th>length(m)</th>\n",
              "      <th>height(cm)</th>\n",
              "      <th>X1</th>\n",
              "      <th>X2</th>\n",
              "      <th>breed_category</th>\n",
              "      <th>pet_category</th>\n",
              "    </tr>\n",
              "  </thead>\n",
              "  <tbody>\n",
              "    <tr>\n",
              "      <th>0</th>\n",
              "      <td>ANSL_69903</td>\n",
              "      <td>2016-07-10 00:00:00</td>\n",
              "      <td>2016-09-21 16:25:00</td>\n",
              "      <td>2.0</td>\n",
              "      <td>Brown Tabby</td>\n",
              "      <td>0.80</td>\n",
              "      <td>7.78</td>\n",
              "      <td>13</td>\n",
              "      <td>9</td>\n",
              "      <td>0.0</td>\n",
              "      <td>1</td>\n",
              "    </tr>\n",
              "    <tr>\n",
              "      <th>1</th>\n",
              "      <td>ANSL_66892</td>\n",
              "      <td>2013-11-21 00:00:00</td>\n",
              "      <td>2018-12-27 17:47:00</td>\n",
              "      <td>1.0</td>\n",
              "      <td>White</td>\n",
              "      <td>0.72</td>\n",
              "      <td>14.19</td>\n",
              "      <td>13</td>\n",
              "      <td>9</td>\n",
              "      <td>0.0</td>\n",
              "      <td>2</td>\n",
              "    </tr>\n",
              "    <tr>\n",
              "      <th>2</th>\n",
              "      <td>ANSL_69750</td>\n",
              "      <td>2014-09-28 00:00:00</td>\n",
              "      <td>2016-10-19 08:24:00</td>\n",
              "      <td>NaN</td>\n",
              "      <td>Brown</td>\n",
              "      <td>0.15</td>\n",
              "      <td>40.90</td>\n",
              "      <td>15</td>\n",
              "      <td>4</td>\n",
              "      <td>2.0</td>\n",
              "      <td>4</td>\n",
              "    </tr>\n",
              "    <tr>\n",
              "      <th>3</th>\n",
              "      <td>ANSL_71623</td>\n",
              "      <td>2016-12-31 00:00:00</td>\n",
              "      <td>2019-01-25 18:30:00</td>\n",
              "      <td>1.0</td>\n",
              "      <td>White</td>\n",
              "      <td>0.62</td>\n",
              "      <td>17.82</td>\n",
              "      <td>0</td>\n",
              "      <td>1</td>\n",
              "      <td>0.0</td>\n",
              "      <td>2</td>\n",
              "    </tr>\n",
              "    <tr>\n",
              "      <th>4</th>\n",
              "      <td>ANSL_57969</td>\n",
              "      <td>2017-09-28 00:00:00</td>\n",
              "      <td>2017-11-19 09:38:00</td>\n",
              "      <td>2.0</td>\n",
              "      <td>Black</td>\n",
              "      <td>0.50</td>\n",
              "      <td>11.06</td>\n",
              "      <td>18</td>\n",
              "      <td>4</td>\n",
              "      <td>0.0</td>\n",
              "      <td>1</td>\n",
              "    </tr>\n",
              "  </tbody>\n",
              "</table>\n",
              "</div>\n",
              "      <button class=\"colab-df-convert\" onclick=\"convertToInteractive('df-c69e172b-e9d1-4a1f-b4b6-86d8cdd2e210')\"\n",
              "              title=\"Convert this dataframe to an interactive table.\"\n",
              "              style=\"display:none;\">\n",
              "        \n",
              "  <svg xmlns=\"http://www.w3.org/2000/svg\" height=\"24px\"viewBox=\"0 0 24 24\"\n",
              "       width=\"24px\">\n",
              "    <path d=\"M0 0h24v24H0V0z\" fill=\"none\"/>\n",
              "    <path d=\"M18.56 5.44l.94 2.06.94-2.06 2.06-.94-2.06-.94-.94-2.06-.94 2.06-2.06.94zm-11 1L8.5 8.5l.94-2.06 2.06-.94-2.06-.94L8.5 2.5l-.94 2.06-2.06.94zm10 10l.94 2.06.94-2.06 2.06-.94-2.06-.94-.94-2.06-.94 2.06-2.06.94z\"/><path d=\"M17.41 7.96l-1.37-1.37c-.4-.4-.92-.59-1.43-.59-.52 0-1.04.2-1.43.59L10.3 9.45l-7.72 7.72c-.78.78-.78 2.05 0 2.83L4 21.41c.39.39.9.59 1.41.59.51 0 1.02-.2 1.41-.59l7.78-7.78 2.81-2.81c.8-.78.8-2.07 0-2.86zM5.41 20L4 18.59l7.72-7.72 1.47 1.35L5.41 20z\"/>\n",
              "  </svg>\n",
              "      </button>\n",
              "      \n",
              "  <style>\n",
              "    .colab-df-container {\n",
              "      display:flex;\n",
              "      flex-wrap:wrap;\n",
              "      gap: 12px;\n",
              "    }\n",
              "\n",
              "    .colab-df-convert {\n",
              "      background-color: #E8F0FE;\n",
              "      border: none;\n",
              "      border-radius: 50%;\n",
              "      cursor: pointer;\n",
              "      display: none;\n",
              "      fill: #1967D2;\n",
              "      height: 32px;\n",
              "      padding: 0 0 0 0;\n",
              "      width: 32px;\n",
              "    }\n",
              "\n",
              "    .colab-df-convert:hover {\n",
              "      background-color: #E2EBFA;\n",
              "      box-shadow: 0px 1px 2px rgba(60, 64, 67, 0.3), 0px 1px 3px 1px rgba(60, 64, 67, 0.15);\n",
              "      fill: #174EA6;\n",
              "    }\n",
              "\n",
              "    [theme=dark] .colab-df-convert {\n",
              "      background-color: #3B4455;\n",
              "      fill: #D2E3FC;\n",
              "    }\n",
              "\n",
              "    [theme=dark] .colab-df-convert:hover {\n",
              "      background-color: #434B5C;\n",
              "      box-shadow: 0px 1px 3px 1px rgba(0, 0, 0, 0.15);\n",
              "      filter: drop-shadow(0px 1px 2px rgba(0, 0, 0, 0.3));\n",
              "      fill: #FFFFFF;\n",
              "    }\n",
              "  </style>\n",
              "\n",
              "      <script>\n",
              "        const buttonEl =\n",
              "          document.querySelector('#df-c69e172b-e9d1-4a1f-b4b6-86d8cdd2e210 button.colab-df-convert');\n",
              "        buttonEl.style.display =\n",
              "          google.colab.kernel.accessAllowed ? 'block' : 'none';\n",
              "\n",
              "        async function convertToInteractive(key) {\n",
              "          const element = document.querySelector('#df-c69e172b-e9d1-4a1f-b4b6-86d8cdd2e210');\n",
              "          const dataTable =\n",
              "            await google.colab.kernel.invokeFunction('convertToInteractive',\n",
              "                                                     [key], {});\n",
              "          if (!dataTable) return;\n",
              "\n",
              "          const docLinkHtml = 'Like what you see? Visit the ' +\n",
              "            '<a target=\"_blank\" href=https://colab.research.google.com/notebooks/data_table.ipynb>data table notebook</a>'\n",
              "            + ' to learn more about interactive tables.';\n",
              "          element.innerHTML = '';\n",
              "          dataTable['output_type'] = 'display_data';\n",
              "          await google.colab.output.renderOutput(dataTable, element);\n",
              "          const docLink = document.createElement('div');\n",
              "          docLink.innerHTML = docLinkHtml;\n",
              "          element.appendChild(docLink);\n",
              "        }\n",
              "      </script>\n",
              "    </div>\n",
              "  </div>\n",
              "  "
            ],
            "text/plain": [
              "       pet_id           issue_date  ... breed_category  pet_category\n",
              "0  ANSL_69903  2016-07-10 00:00:00  ...            0.0             1\n",
              "1  ANSL_66892  2013-11-21 00:00:00  ...            0.0             2\n",
              "2  ANSL_69750  2014-09-28 00:00:00  ...            2.0             4\n",
              "3  ANSL_71623  2016-12-31 00:00:00  ...            0.0             2\n",
              "4  ANSL_57969  2017-09-28 00:00:00  ...            0.0             1\n",
              "\n",
              "[5 rows x 11 columns]"
            ]
          },
          "metadata": {},
          "execution_count": 2
        }
      ]
    },
    {
      "cell_type": "markdown",
      "source": [
        "##**Load Test DataSets**\n"
      ],
      "metadata": {
        "id": "J2WeJYD2qOeZ"
      }
    },
    {
      "cell_type": "code",
      "source": [
        "\n",
        "Test_DataSets =  pd.read_csv(\"test.csv\")\n",
        "Test_DataSets.head()"
      ],
      "metadata": {
        "colab": {
          "base_uri": "https://localhost:8080/",
          "height": 206
        },
        "id": "6Vu-vt_youap",
        "outputId": "9fe9f833-73b9-4f00-c27c-0ecf2a9e4f37"
      },
      "execution_count": 3,
      "outputs": [
        {
          "output_type": "execute_result",
          "data": {
            "text/html": [
              "\n",
              "  <div id=\"df-1e95d224-2cdf-43ef-8b3a-4c4c18d072a6\">\n",
              "    <div class=\"colab-df-container\">\n",
              "      <div>\n",
              "<style scoped>\n",
              "    .dataframe tbody tr th:only-of-type {\n",
              "        vertical-align: middle;\n",
              "    }\n",
              "\n",
              "    .dataframe tbody tr th {\n",
              "        vertical-align: top;\n",
              "    }\n",
              "\n",
              "    .dataframe thead th {\n",
              "        text-align: right;\n",
              "    }\n",
              "</style>\n",
              "<table border=\"1\" class=\"dataframe\">\n",
              "  <thead>\n",
              "    <tr style=\"text-align: right;\">\n",
              "      <th></th>\n",
              "      <th>pet_id</th>\n",
              "      <th>issue_date</th>\n",
              "      <th>listing_date</th>\n",
              "      <th>condition</th>\n",
              "      <th>color_type</th>\n",
              "      <th>length(m)</th>\n",
              "      <th>height(cm)</th>\n",
              "      <th>X1</th>\n",
              "      <th>X2</th>\n",
              "    </tr>\n",
              "  </thead>\n",
              "  <tbody>\n",
              "    <tr>\n",
              "      <th>0</th>\n",
              "      <td>ANSL_75005</td>\n",
              "      <td>2005-08-17 00:00:00</td>\n",
              "      <td>2017-09-07 15:35:00</td>\n",
              "      <td>0.0</td>\n",
              "      <td>Black</td>\n",
              "      <td>0.87</td>\n",
              "      <td>42.73</td>\n",
              "      <td>0</td>\n",
              "      <td>7</td>\n",
              "    </tr>\n",
              "    <tr>\n",
              "      <th>1</th>\n",
              "      <td>ANSL_76663</td>\n",
              "      <td>2018-11-15 00:00:00</td>\n",
              "      <td>2019-05-08 17:24:00</td>\n",
              "      <td>1.0</td>\n",
              "      <td>Orange Tabby</td>\n",
              "      <td>0.06</td>\n",
              "      <td>6.71</td>\n",
              "      <td>0</td>\n",
              "      <td>1</td>\n",
              "    </tr>\n",
              "    <tr>\n",
              "      <th>2</th>\n",
              "      <td>ANSL_58259</td>\n",
              "      <td>2012-10-11 00:00:00</td>\n",
              "      <td>2018-04-02 16:51:00</td>\n",
              "      <td>1.0</td>\n",
              "      <td>Black</td>\n",
              "      <td>0.24</td>\n",
              "      <td>41.21</td>\n",
              "      <td>0</td>\n",
              "      <td>7</td>\n",
              "    </tr>\n",
              "    <tr>\n",
              "      <th>3</th>\n",
              "      <td>ANSL_67171</td>\n",
              "      <td>2015-02-13 00:00:00</td>\n",
              "      <td>2018-04-06 07:25:00</td>\n",
              "      <td>1.0</td>\n",
              "      <td>Black</td>\n",
              "      <td>0.29</td>\n",
              "      <td>8.46</td>\n",
              "      <td>7</td>\n",
              "      <td>1</td>\n",
              "    </tr>\n",
              "    <tr>\n",
              "      <th>4</th>\n",
              "      <td>ANSL_72871</td>\n",
              "      <td>2017-01-18 00:00:00</td>\n",
              "      <td>2018-04-26 13:42:00</td>\n",
              "      <td>1.0</td>\n",
              "      <td>Brown</td>\n",
              "      <td>0.71</td>\n",
              "      <td>30.92</td>\n",
              "      <td>0</td>\n",
              "      <td>7</td>\n",
              "    </tr>\n",
              "  </tbody>\n",
              "</table>\n",
              "</div>\n",
              "      <button class=\"colab-df-convert\" onclick=\"convertToInteractive('df-1e95d224-2cdf-43ef-8b3a-4c4c18d072a6')\"\n",
              "              title=\"Convert this dataframe to an interactive table.\"\n",
              "              style=\"display:none;\">\n",
              "        \n",
              "  <svg xmlns=\"http://www.w3.org/2000/svg\" height=\"24px\"viewBox=\"0 0 24 24\"\n",
              "       width=\"24px\">\n",
              "    <path d=\"M0 0h24v24H0V0z\" fill=\"none\"/>\n",
              "    <path d=\"M18.56 5.44l.94 2.06.94-2.06 2.06-.94-2.06-.94-.94-2.06-.94 2.06-2.06.94zm-11 1L8.5 8.5l.94-2.06 2.06-.94-2.06-.94L8.5 2.5l-.94 2.06-2.06.94zm10 10l.94 2.06.94-2.06 2.06-.94-2.06-.94-.94-2.06-.94 2.06-2.06.94z\"/><path d=\"M17.41 7.96l-1.37-1.37c-.4-.4-.92-.59-1.43-.59-.52 0-1.04.2-1.43.59L10.3 9.45l-7.72 7.72c-.78.78-.78 2.05 0 2.83L4 21.41c.39.39.9.59 1.41.59.51 0 1.02-.2 1.41-.59l7.78-7.78 2.81-2.81c.8-.78.8-2.07 0-2.86zM5.41 20L4 18.59l7.72-7.72 1.47 1.35L5.41 20z\"/>\n",
              "  </svg>\n",
              "      </button>\n",
              "      \n",
              "  <style>\n",
              "    .colab-df-container {\n",
              "      display:flex;\n",
              "      flex-wrap:wrap;\n",
              "      gap: 12px;\n",
              "    }\n",
              "\n",
              "    .colab-df-convert {\n",
              "      background-color: #E8F0FE;\n",
              "      border: none;\n",
              "      border-radius: 50%;\n",
              "      cursor: pointer;\n",
              "      display: none;\n",
              "      fill: #1967D2;\n",
              "      height: 32px;\n",
              "      padding: 0 0 0 0;\n",
              "      width: 32px;\n",
              "    }\n",
              "\n",
              "    .colab-df-convert:hover {\n",
              "      background-color: #E2EBFA;\n",
              "      box-shadow: 0px 1px 2px rgba(60, 64, 67, 0.3), 0px 1px 3px 1px rgba(60, 64, 67, 0.15);\n",
              "      fill: #174EA6;\n",
              "    }\n",
              "\n",
              "    [theme=dark] .colab-df-convert {\n",
              "      background-color: #3B4455;\n",
              "      fill: #D2E3FC;\n",
              "    }\n",
              "\n",
              "    [theme=dark] .colab-df-convert:hover {\n",
              "      background-color: #434B5C;\n",
              "      box-shadow: 0px 1px 3px 1px rgba(0, 0, 0, 0.15);\n",
              "      filter: drop-shadow(0px 1px 2px rgba(0, 0, 0, 0.3));\n",
              "      fill: #FFFFFF;\n",
              "    }\n",
              "  </style>\n",
              "\n",
              "      <script>\n",
              "        const buttonEl =\n",
              "          document.querySelector('#df-1e95d224-2cdf-43ef-8b3a-4c4c18d072a6 button.colab-df-convert');\n",
              "        buttonEl.style.display =\n",
              "          google.colab.kernel.accessAllowed ? 'block' : 'none';\n",
              "\n",
              "        async function convertToInteractive(key) {\n",
              "          const element = document.querySelector('#df-1e95d224-2cdf-43ef-8b3a-4c4c18d072a6');\n",
              "          const dataTable =\n",
              "            await google.colab.kernel.invokeFunction('convertToInteractive',\n",
              "                                                     [key], {});\n",
              "          if (!dataTable) return;\n",
              "\n",
              "          const docLinkHtml = 'Like what you see? Visit the ' +\n",
              "            '<a target=\"_blank\" href=https://colab.research.google.com/notebooks/data_table.ipynb>data table notebook</a>'\n",
              "            + ' to learn more about interactive tables.';\n",
              "          element.innerHTML = '';\n",
              "          dataTable['output_type'] = 'display_data';\n",
              "          await google.colab.output.renderOutput(dataTable, element);\n",
              "          const docLink = document.createElement('div');\n",
              "          docLink.innerHTML = docLinkHtml;\n",
              "          element.appendChild(docLink);\n",
              "        }\n",
              "      </script>\n",
              "    </div>\n",
              "  </div>\n",
              "  "
            ],
            "text/plain": [
              "       pet_id           issue_date         listing_date  ...  height(cm) X1  X2\n",
              "0  ANSL_75005  2005-08-17 00:00:00  2017-09-07 15:35:00  ...       42.73  0   7\n",
              "1  ANSL_76663  2018-11-15 00:00:00  2019-05-08 17:24:00  ...        6.71  0   1\n",
              "2  ANSL_58259  2012-10-11 00:00:00  2018-04-02 16:51:00  ...       41.21  0   7\n",
              "3  ANSL_67171  2015-02-13 00:00:00  2018-04-06 07:25:00  ...        8.46  7   1\n",
              "4  ANSL_72871  2017-01-18 00:00:00  2018-04-26 13:42:00  ...       30.92  0   7\n",
              "\n",
              "[5 rows x 9 columns]"
            ]
          },
          "metadata": {},
          "execution_count": 3
        }
      ]
    },
    {
      "cell_type": "markdown",
      "source": [
        "##**Data Perprocessing And Analysis**"
      ],
      "metadata": {
        "id": "EoKZN0_Sp-Pd"
      }
    },
    {
      "cell_type": "code",
      "source": [
        "Train_DataSets.shape  # Train DataSets Shape"
      ],
      "metadata": {
        "colab": {
          "base_uri": "https://localhost:8080/"
        },
        "id": "PqNwnS9kqvv4",
        "outputId": "c63a9cd5-f6f8-43bb-f272-e49e10ae5b51"
      },
      "execution_count": 4,
      "outputs": [
        {
          "output_type": "execute_result",
          "data": {
            "text/plain": [
              "(18834, 11)"
            ]
          },
          "metadata": {},
          "execution_count": 4
        }
      ]
    },
    {
      "cell_type": "code",
      "source": [
        "Test_DataSets.shape  # Test DataSet Shape\n"
      ],
      "metadata": {
        "colab": {
          "base_uri": "https://localhost:8080/"
        },
        "id": "uAw8XL7yq-ON",
        "outputId": "fc6f090e-d5c7-4526-c459-bf395d5964b1"
      },
      "execution_count": 5,
      "outputs": [
        {
          "output_type": "execute_result",
          "data": {
            "text/plain": [
              "(8072, 9)"
            ]
          },
          "metadata": {},
          "execution_count": 5
        }
      ]
    },
    {
      "cell_type": "code",
      "source": [
        "Train_DataSets.info()  # Display Information About DataSets Type and More"
      ],
      "metadata": {
        "colab": {
          "base_uri": "https://localhost:8080/"
        },
        "id": "1JKQ-iAkrHSB",
        "outputId": "a1e6bf18-fa98-42c5-8e5a-d3f962e29ed1"
      },
      "execution_count": 6,
      "outputs": [
        {
          "output_type": "stream",
          "name": "stdout",
          "text": [
            "<class 'pandas.core.frame.DataFrame'>\n",
            "RangeIndex: 18834 entries, 0 to 18833\n",
            "Data columns (total 11 columns):\n",
            " #   Column          Non-Null Count  Dtype  \n",
            "---  ------          --------------  -----  \n",
            " 0   pet_id          18834 non-null  object \n",
            " 1   issue_date      18834 non-null  object \n",
            " 2   listing_date    18834 non-null  object \n",
            " 3   condition       17357 non-null  float64\n",
            " 4   color_type      18834 non-null  object \n",
            " 5   length(m)       18834 non-null  float64\n",
            " 6   height(cm)      18834 non-null  float64\n",
            " 7   X1              18834 non-null  int64  \n",
            " 8   X2              18834 non-null  int64  \n",
            " 9   breed_category  18834 non-null  float64\n",
            " 10  pet_category    18834 non-null  int64  \n",
            "dtypes: float64(4), int64(3), object(4)\n",
            "memory usage: 1.6+ MB\n"
          ]
        }
      ]
    },
    {
      "cell_type": "code",
      "source": [
        "Train_DataSets.describe()  # Display "
      ],
      "metadata": {
        "colab": {
          "base_uri": "https://localhost:8080/",
          "height": 300
        },
        "id": "k5BI82eIrXmx",
        "outputId": "0a0c3c1d-933b-4662-a8da-f552854c9c5f"
      },
      "execution_count": 7,
      "outputs": [
        {
          "output_type": "execute_result",
          "data": {
            "text/html": [
              "\n",
              "  <div id=\"df-b2e15778-142a-434d-b2d9-3a86a4702819\">\n",
              "    <div class=\"colab-df-container\">\n",
              "      <div>\n",
              "<style scoped>\n",
              "    .dataframe tbody tr th:only-of-type {\n",
              "        vertical-align: middle;\n",
              "    }\n",
              "\n",
              "    .dataframe tbody tr th {\n",
              "        vertical-align: top;\n",
              "    }\n",
              "\n",
              "    .dataframe thead th {\n",
              "        text-align: right;\n",
              "    }\n",
              "</style>\n",
              "<table border=\"1\" class=\"dataframe\">\n",
              "  <thead>\n",
              "    <tr style=\"text-align: right;\">\n",
              "      <th></th>\n",
              "      <th>condition</th>\n",
              "      <th>length(m)</th>\n",
              "      <th>height(cm)</th>\n",
              "      <th>X1</th>\n",
              "      <th>X2</th>\n",
              "      <th>breed_category</th>\n",
              "      <th>pet_category</th>\n",
              "    </tr>\n",
              "  </thead>\n",
              "  <tbody>\n",
              "    <tr>\n",
              "      <th>count</th>\n",
              "      <td>17357.000000</td>\n",
              "      <td>18834.000000</td>\n",
              "      <td>18834.000000</td>\n",
              "      <td>18834.000000</td>\n",
              "      <td>18834.000000</td>\n",
              "      <td>18834.000000</td>\n",
              "      <td>18834.000000</td>\n",
              "    </tr>\n",
              "    <tr>\n",
              "      <th>mean</th>\n",
              "      <td>0.883390</td>\n",
              "      <td>0.502636</td>\n",
              "      <td>27.448832</td>\n",
              "      <td>5.369598</td>\n",
              "      <td>4.577307</td>\n",
              "      <td>0.600563</td>\n",
              "      <td>1.709143</td>\n",
              "    </tr>\n",
              "    <tr>\n",
              "      <th>std</th>\n",
              "      <td>0.770434</td>\n",
              "      <td>0.288705</td>\n",
              "      <td>13.019781</td>\n",
              "      <td>6.572366</td>\n",
              "      <td>3.517763</td>\n",
              "      <td>0.629883</td>\n",
              "      <td>0.717919</td>\n",
              "    </tr>\n",
              "    <tr>\n",
              "      <th>min</th>\n",
              "      <td>0.000000</td>\n",
              "      <td>0.000000</td>\n",
              "      <td>5.000000</td>\n",
              "      <td>0.000000</td>\n",
              "      <td>0.000000</td>\n",
              "      <td>0.000000</td>\n",
              "      <td>0.000000</td>\n",
              "    </tr>\n",
              "    <tr>\n",
              "      <th>25%</th>\n",
              "      <td>0.000000</td>\n",
              "      <td>0.250000</td>\n",
              "      <td>16.172500</td>\n",
              "      <td>0.000000</td>\n",
              "      <td>1.000000</td>\n",
              "      <td>0.000000</td>\n",
              "      <td>1.000000</td>\n",
              "    </tr>\n",
              "    <tr>\n",
              "      <th>50%</th>\n",
              "      <td>1.000000</td>\n",
              "      <td>0.500000</td>\n",
              "      <td>27.340000</td>\n",
              "      <td>0.000000</td>\n",
              "      <td>4.000000</td>\n",
              "      <td>1.000000</td>\n",
              "      <td>2.000000</td>\n",
              "    </tr>\n",
              "    <tr>\n",
              "      <th>75%</th>\n",
              "      <td>1.000000</td>\n",
              "      <td>0.760000</td>\n",
              "      <td>38.890000</td>\n",
              "      <td>13.000000</td>\n",
              "      <td>9.000000</td>\n",
              "      <td>1.000000</td>\n",
              "      <td>2.000000</td>\n",
              "    </tr>\n",
              "    <tr>\n",
              "      <th>max</th>\n",
              "      <td>2.000000</td>\n",
              "      <td>1.000000</td>\n",
              "      <td>50.000000</td>\n",
              "      <td>19.000000</td>\n",
              "      <td>9.000000</td>\n",
              "      <td>2.000000</td>\n",
              "      <td>4.000000</td>\n",
              "    </tr>\n",
              "  </tbody>\n",
              "</table>\n",
              "</div>\n",
              "      <button class=\"colab-df-convert\" onclick=\"convertToInteractive('df-b2e15778-142a-434d-b2d9-3a86a4702819')\"\n",
              "              title=\"Convert this dataframe to an interactive table.\"\n",
              "              style=\"display:none;\">\n",
              "        \n",
              "  <svg xmlns=\"http://www.w3.org/2000/svg\" height=\"24px\"viewBox=\"0 0 24 24\"\n",
              "       width=\"24px\">\n",
              "    <path d=\"M0 0h24v24H0V0z\" fill=\"none\"/>\n",
              "    <path d=\"M18.56 5.44l.94 2.06.94-2.06 2.06-.94-2.06-.94-.94-2.06-.94 2.06-2.06.94zm-11 1L8.5 8.5l.94-2.06 2.06-.94-2.06-.94L8.5 2.5l-.94 2.06-2.06.94zm10 10l.94 2.06.94-2.06 2.06-.94-2.06-.94-.94-2.06-.94 2.06-2.06.94z\"/><path d=\"M17.41 7.96l-1.37-1.37c-.4-.4-.92-.59-1.43-.59-.52 0-1.04.2-1.43.59L10.3 9.45l-7.72 7.72c-.78.78-.78 2.05 0 2.83L4 21.41c.39.39.9.59 1.41.59.51 0 1.02-.2 1.41-.59l7.78-7.78 2.81-2.81c.8-.78.8-2.07 0-2.86zM5.41 20L4 18.59l7.72-7.72 1.47 1.35L5.41 20z\"/>\n",
              "  </svg>\n",
              "      </button>\n",
              "      \n",
              "  <style>\n",
              "    .colab-df-container {\n",
              "      display:flex;\n",
              "      flex-wrap:wrap;\n",
              "      gap: 12px;\n",
              "    }\n",
              "\n",
              "    .colab-df-convert {\n",
              "      background-color: #E8F0FE;\n",
              "      border: none;\n",
              "      border-radius: 50%;\n",
              "      cursor: pointer;\n",
              "      display: none;\n",
              "      fill: #1967D2;\n",
              "      height: 32px;\n",
              "      padding: 0 0 0 0;\n",
              "      width: 32px;\n",
              "    }\n",
              "\n",
              "    .colab-df-convert:hover {\n",
              "      background-color: #E2EBFA;\n",
              "      box-shadow: 0px 1px 2px rgba(60, 64, 67, 0.3), 0px 1px 3px 1px rgba(60, 64, 67, 0.15);\n",
              "      fill: #174EA6;\n",
              "    }\n",
              "\n",
              "    [theme=dark] .colab-df-convert {\n",
              "      background-color: #3B4455;\n",
              "      fill: #D2E3FC;\n",
              "    }\n",
              "\n",
              "    [theme=dark] .colab-df-convert:hover {\n",
              "      background-color: #434B5C;\n",
              "      box-shadow: 0px 1px 3px 1px rgba(0, 0, 0, 0.15);\n",
              "      filter: drop-shadow(0px 1px 2px rgba(0, 0, 0, 0.3));\n",
              "      fill: #FFFFFF;\n",
              "    }\n",
              "  </style>\n",
              "\n",
              "      <script>\n",
              "        const buttonEl =\n",
              "          document.querySelector('#df-b2e15778-142a-434d-b2d9-3a86a4702819 button.colab-df-convert');\n",
              "        buttonEl.style.display =\n",
              "          google.colab.kernel.accessAllowed ? 'block' : 'none';\n",
              "\n",
              "        async function convertToInteractive(key) {\n",
              "          const element = document.querySelector('#df-b2e15778-142a-434d-b2d9-3a86a4702819');\n",
              "          const dataTable =\n",
              "            await google.colab.kernel.invokeFunction('convertToInteractive',\n",
              "                                                     [key], {});\n",
              "          if (!dataTable) return;\n",
              "\n",
              "          const docLinkHtml = 'Like what you see? Visit the ' +\n",
              "            '<a target=\"_blank\" href=https://colab.research.google.com/notebooks/data_table.ipynb>data table notebook</a>'\n",
              "            + ' to learn more about interactive tables.';\n",
              "          element.innerHTML = '';\n",
              "          dataTable['output_type'] = 'display_data';\n",
              "          await google.colab.output.renderOutput(dataTable, element);\n",
              "          const docLink = document.createElement('div');\n",
              "          docLink.innerHTML = docLinkHtml;\n",
              "          element.appendChild(docLink);\n",
              "        }\n",
              "      </script>\n",
              "    </div>\n",
              "  </div>\n",
              "  "
            ],
            "text/plain": [
              "          condition     length(m)  ...  breed_category  pet_category\n",
              "count  17357.000000  18834.000000  ...    18834.000000  18834.000000\n",
              "mean       0.883390      0.502636  ...        0.600563      1.709143\n",
              "std        0.770434      0.288705  ...        0.629883      0.717919\n",
              "min        0.000000      0.000000  ...        0.000000      0.000000\n",
              "25%        0.000000      0.250000  ...        0.000000      1.000000\n",
              "50%        1.000000      0.500000  ...        1.000000      2.000000\n",
              "75%        1.000000      0.760000  ...        1.000000      2.000000\n",
              "max        2.000000      1.000000  ...        2.000000      4.000000\n",
              "\n",
              "[8 rows x 7 columns]"
            ]
          },
          "metadata": {},
          "execution_count": 7
        }
      ]
    },
    {
      "cell_type": "markdown",
      "source": [
        "##Display Correlation between variables"
      ],
      "metadata": {
        "id": "uwLPrFnkrqTp"
      }
    },
    {
      "cell_type": "code",
      "source": [
        "Train_DataSets.corr() "
      ],
      "metadata": {
        "colab": {
          "base_uri": "https://localhost:8080/",
          "height": 269
        },
        "id": "p8J47j3lrjXg",
        "outputId": "386674ee-e3ba-405b-a84f-e066c3faf3a4"
      },
      "execution_count": 8,
      "outputs": [
        {
          "output_type": "execute_result",
          "data": {
            "text/html": [
              "\n",
              "  <div id=\"df-fb0f18e1-f666-4c7c-a527-30bc3d28f78b\">\n",
              "    <div class=\"colab-df-container\">\n",
              "      <div>\n",
              "<style scoped>\n",
              "    .dataframe tbody tr th:only-of-type {\n",
              "        vertical-align: middle;\n",
              "    }\n",
              "\n",
              "    .dataframe tbody tr th {\n",
              "        vertical-align: top;\n",
              "    }\n",
              "\n",
              "    .dataframe thead th {\n",
              "        text-align: right;\n",
              "    }\n",
              "</style>\n",
              "<table border=\"1\" class=\"dataframe\">\n",
              "  <thead>\n",
              "    <tr style=\"text-align: right;\">\n",
              "      <th></th>\n",
              "      <th>condition</th>\n",
              "      <th>length(m)</th>\n",
              "      <th>height(cm)</th>\n",
              "      <th>X1</th>\n",
              "      <th>X2</th>\n",
              "      <th>breed_category</th>\n",
              "      <th>pet_category</th>\n",
              "    </tr>\n",
              "  </thead>\n",
              "  <tbody>\n",
              "    <tr>\n",
              "      <th>condition</th>\n",
              "      <td>1.000000</td>\n",
              "      <td>-0.011219</td>\n",
              "      <td>-0.010793</td>\n",
              "      <td>0.338843</td>\n",
              "      <td>0.381696</td>\n",
              "      <td>-0.483503</td>\n",
              "      <td>-0.041660</td>\n",
              "    </tr>\n",
              "    <tr>\n",
              "      <th>length(m)</th>\n",
              "      <td>-0.011219</td>\n",
              "      <td>1.000000</td>\n",
              "      <td>-0.004464</td>\n",
              "      <td>-0.002893</td>\n",
              "      <td>-0.011175</td>\n",
              "      <td>0.007229</td>\n",
              "      <td>-0.003999</td>\n",
              "    </tr>\n",
              "    <tr>\n",
              "      <th>height(cm)</th>\n",
              "      <td>-0.010793</td>\n",
              "      <td>-0.004464</td>\n",
              "      <td>1.000000</td>\n",
              "      <td>-0.003801</td>\n",
              "      <td>-0.008216</td>\n",
              "      <td>0.011647</td>\n",
              "      <td>0.001976</td>\n",
              "    </tr>\n",
              "    <tr>\n",
              "      <th>X1</th>\n",
              "      <td>0.338843</td>\n",
              "      <td>-0.002893</td>\n",
              "      <td>-0.003801</td>\n",
              "      <td>1.000000</td>\n",
              "      <td>0.584396</td>\n",
              "      <td>0.240729</td>\n",
              "      <td>-0.032594</td>\n",
              "    </tr>\n",
              "    <tr>\n",
              "      <th>X2</th>\n",
              "      <td>0.381696</td>\n",
              "      <td>-0.011175</td>\n",
              "      <td>-0.008216</td>\n",
              "      <td>0.584396</td>\n",
              "      <td>1.000000</td>\n",
              "      <td>0.052530</td>\n",
              "      <td>-0.032116</td>\n",
              "    </tr>\n",
              "    <tr>\n",
              "      <th>breed_category</th>\n",
              "      <td>-0.483503</td>\n",
              "      <td>0.007229</td>\n",
              "      <td>0.011647</td>\n",
              "      <td>0.240729</td>\n",
              "      <td>0.052530</td>\n",
              "      <td>1.000000</td>\n",
              "      <td>0.209230</td>\n",
              "    </tr>\n",
              "    <tr>\n",
              "      <th>pet_category</th>\n",
              "      <td>-0.041660</td>\n",
              "      <td>-0.003999</td>\n",
              "      <td>0.001976</td>\n",
              "      <td>-0.032594</td>\n",
              "      <td>-0.032116</td>\n",
              "      <td>0.209230</td>\n",
              "      <td>1.000000</td>\n",
              "    </tr>\n",
              "  </tbody>\n",
              "</table>\n",
              "</div>\n",
              "      <button class=\"colab-df-convert\" onclick=\"convertToInteractive('df-fb0f18e1-f666-4c7c-a527-30bc3d28f78b')\"\n",
              "              title=\"Convert this dataframe to an interactive table.\"\n",
              "              style=\"display:none;\">\n",
              "        \n",
              "  <svg xmlns=\"http://www.w3.org/2000/svg\" height=\"24px\"viewBox=\"0 0 24 24\"\n",
              "       width=\"24px\">\n",
              "    <path d=\"M0 0h24v24H0V0z\" fill=\"none\"/>\n",
              "    <path d=\"M18.56 5.44l.94 2.06.94-2.06 2.06-.94-2.06-.94-.94-2.06-.94 2.06-2.06.94zm-11 1L8.5 8.5l.94-2.06 2.06-.94-2.06-.94L8.5 2.5l-.94 2.06-2.06.94zm10 10l.94 2.06.94-2.06 2.06-.94-2.06-.94-.94-2.06-.94 2.06-2.06.94z\"/><path d=\"M17.41 7.96l-1.37-1.37c-.4-.4-.92-.59-1.43-.59-.52 0-1.04.2-1.43.59L10.3 9.45l-7.72 7.72c-.78.78-.78 2.05 0 2.83L4 21.41c.39.39.9.59 1.41.59.51 0 1.02-.2 1.41-.59l7.78-7.78 2.81-2.81c.8-.78.8-2.07 0-2.86zM5.41 20L4 18.59l7.72-7.72 1.47 1.35L5.41 20z\"/>\n",
              "  </svg>\n",
              "      </button>\n",
              "      \n",
              "  <style>\n",
              "    .colab-df-container {\n",
              "      display:flex;\n",
              "      flex-wrap:wrap;\n",
              "      gap: 12px;\n",
              "    }\n",
              "\n",
              "    .colab-df-convert {\n",
              "      background-color: #E8F0FE;\n",
              "      border: none;\n",
              "      border-radius: 50%;\n",
              "      cursor: pointer;\n",
              "      display: none;\n",
              "      fill: #1967D2;\n",
              "      height: 32px;\n",
              "      padding: 0 0 0 0;\n",
              "      width: 32px;\n",
              "    }\n",
              "\n",
              "    .colab-df-convert:hover {\n",
              "      background-color: #E2EBFA;\n",
              "      box-shadow: 0px 1px 2px rgba(60, 64, 67, 0.3), 0px 1px 3px 1px rgba(60, 64, 67, 0.15);\n",
              "      fill: #174EA6;\n",
              "    }\n",
              "\n",
              "    [theme=dark] .colab-df-convert {\n",
              "      background-color: #3B4455;\n",
              "      fill: #D2E3FC;\n",
              "    }\n",
              "\n",
              "    [theme=dark] .colab-df-convert:hover {\n",
              "      background-color: #434B5C;\n",
              "      box-shadow: 0px 1px 3px 1px rgba(0, 0, 0, 0.15);\n",
              "      filter: drop-shadow(0px 1px 2px rgba(0, 0, 0, 0.3));\n",
              "      fill: #FFFFFF;\n",
              "    }\n",
              "  </style>\n",
              "\n",
              "      <script>\n",
              "        const buttonEl =\n",
              "          document.querySelector('#df-fb0f18e1-f666-4c7c-a527-30bc3d28f78b button.colab-df-convert');\n",
              "        buttonEl.style.display =\n",
              "          google.colab.kernel.accessAllowed ? 'block' : 'none';\n",
              "\n",
              "        async function convertToInteractive(key) {\n",
              "          const element = document.querySelector('#df-fb0f18e1-f666-4c7c-a527-30bc3d28f78b');\n",
              "          const dataTable =\n",
              "            await google.colab.kernel.invokeFunction('convertToInteractive',\n",
              "                                                     [key], {});\n",
              "          if (!dataTable) return;\n",
              "\n",
              "          const docLinkHtml = 'Like what you see? Visit the ' +\n",
              "            '<a target=\"_blank\" href=https://colab.research.google.com/notebooks/data_table.ipynb>data table notebook</a>'\n",
              "            + ' to learn more about interactive tables.';\n",
              "          element.innerHTML = '';\n",
              "          dataTable['output_type'] = 'display_data';\n",
              "          await google.colab.output.renderOutput(dataTable, element);\n",
              "          const docLink = document.createElement('div');\n",
              "          docLink.innerHTML = docLinkHtml;\n",
              "          element.appendChild(docLink);\n",
              "        }\n",
              "      </script>\n",
              "    </div>\n",
              "  </div>\n",
              "  "
            ],
            "text/plain": [
              "                condition  length(m)  ...  breed_category  pet_category\n",
              "condition        1.000000  -0.011219  ...       -0.483503     -0.041660\n",
              "length(m)       -0.011219   1.000000  ...        0.007229     -0.003999\n",
              "height(cm)      -0.010793  -0.004464  ...        0.011647      0.001976\n",
              "X1               0.338843  -0.002893  ...        0.240729     -0.032594\n",
              "X2               0.381696  -0.011175  ...        0.052530     -0.032116\n",
              "breed_category  -0.483503   0.007229  ...        1.000000      0.209230\n",
              "pet_category    -0.041660  -0.003999  ...        0.209230      1.000000\n",
              "\n",
              "[7 rows x 7 columns]"
            ]
          },
          "metadata": {},
          "execution_count": 8
        }
      ]
    },
    {
      "cell_type": "markdown",
      "source": [
        "## Drow HeatMap Using Correlation  (\"corr()\")"
      ],
      "metadata": {
        "id": "2rI5lCoPr879"
      }
    },
    {
      "cell_type": "code",
      "source": [
        "plt.figure(figsize=(16,7))\n",
        "Heatmap=sns.heatmap(Train_DataSets.corr(),annot=True,cmap=\"YlGnBu\")\n",
        "Heatmap.set_title(\"Correlation HeatMap\")\n"
      ],
      "metadata": {
        "colab": {
          "base_uri": "https://localhost:8080/",
          "height": 462
        },
        "id": "Jm8PEUAEr9M0",
        "outputId": "8711589d-5f8d-4a4b-c81f-21f9b5c8ba75"
      },
      "execution_count": 9,
      "outputs": [
        {
          "output_type": "execute_result",
          "data": {
            "text/plain": [
              "Text(0.5, 1.0, 'Correlation HeatMap')"
            ]
          },
          "metadata": {},
          "execution_count": 9
        },
        {
          "output_type": "display_data",
          "data": {
            "image/png": "[encoded data removed]",
            "text/plain": [
              "<Figure size 1152x504 with 2 Axes>"
            ]
          },
          "metadata": {
            "needs_background": "light"
          }
        }
      ]
    },
    {
      "cell_type": "markdown",
      "source": [
        "##**Analysis of missing values (NaNs)**\n",
        "check Missing Value and Dealing with missing values"
      ],
      "metadata": {
        "id": "2nmyaNHHvBqM"
      }
    },
    {
      "cell_type": "code",
      "source": [
        "Train_DataSets.isna().sum()  # Check And Count Missing Values Using isna() and sum()"
      ],
      "metadata": {
        "colab": {
          "base_uri": "https://localhost:8080/"
        },
        "id": "f_pVK0iYvvSu",
        "outputId": "47200a10-b16d-4876-8fde-5fce68345355"
      },
      "execution_count": 10,
      "outputs": [
        {
          "output_type": "execute_result",
          "data": {
            "text/plain": [
              "pet_id               0\n",
              "issue_date           0\n",
              "listing_date         0\n",
              "condition         1477\n",
              "color_type           0\n",
              "length(m)            0\n",
              "height(cm)           0\n",
              "X1                   0\n",
              "X2                   0\n",
              "breed_category       0\n",
              "pet_category         0\n",
              "dtype: int64"
            ]
          },
          "metadata": {},
          "execution_count": 10
        }
      ]
    },
    {
      "cell_type": "code",
      "source": [
        "Train_DataSets = Train_DataSets.fillna(method=\"ffill\")\n",
        "Train_DataSets.isna().sum()"
      ],
      "metadata": {
        "colab": {
          "base_uri": "https://localhost:8080/"
        },
        "id": "F_X6nWPdG3FQ",
        "outputId": "8c1fa6b3-595c-4323-c83e-f6099195d83a"
      },
      "execution_count": 11,
      "outputs": [
        {
          "output_type": "execute_result",
          "data": {
            "text/plain": [
              "pet_id            0\n",
              "issue_date        0\n",
              "listing_date      0\n",
              "condition         0\n",
              "color_type        0\n",
              "length(m)         0\n",
              "height(cm)        0\n",
              "X1                0\n",
              "X2                0\n",
              "breed_category    0\n",
              "pet_category      0\n",
              "dtype: int64"
            ]
          },
          "metadata": {},
          "execution_count": 11
        }
      ]
    },
    {
      "cell_type": "markdown",
      "source": [
        "## **Modify listing and issue date coloumn from object to datetime format**"
      ],
      "metadata": {
        "id": "_0VAbhlJ04oJ"
      }
    },
    {
      "cell_type": "code",
      "source": [
        "issue_date = pd.to_datetime(Train_DataSets.issue_date)\n",
        "issue_date"
      ],
      "metadata": {
        "colab": {
          "base_uri": "https://localhost:8080/"
        },
        "id": "dE7BoIwX1FRU",
        "outputId": "367390f0-f0d1-4720-9a81-28a7f375b775"
      },
      "execution_count": 12,
      "outputs": [
        {
          "output_type": "execute_result",
          "data": {
            "text/plain": [
              "0       2016-07-10\n",
              "1       2013-11-21\n",
              "2       2014-09-28\n",
              "3       2016-12-31\n",
              "4       2017-09-28\n",
              "           ...    \n",
              "18829   2017-01-26\n",
              "18830   2016-06-18\n",
              "18831   2010-07-21\n",
              "18832   2017-05-12\n",
              "18833   2011-12-13\n",
              "Name: issue_date, Length: 18834, dtype: datetime64[ns]"
            ]
          },
          "metadata": {},
          "execution_count": 12
        }
      ]
    },
    {
      "cell_type": "code",
      "source": [
        "listing_date = pd.to_datetime(Train_DataSets.listing_date)\n",
        "listing_date"
      ],
      "metadata": {
        "colab": {
          "base_uri": "https://localhost:8080/"
        },
        "id": "q3WJQd-K2O8q",
        "outputId": "36ca4dc0-1072-4ab8-b9fa-61e191348282"
      },
      "execution_count": 13,
      "outputs": [
        {
          "output_type": "execute_result",
          "data": {
            "text/plain": [
              "0       2016-09-21 16:25:00\n",
              "1       2018-12-27 17:47:00\n",
              "2       2016-10-19 08:24:00\n",
              "3       2019-01-25 18:30:00\n",
              "4       2017-11-19 09:38:00\n",
              "                ...        \n",
              "18829   2018-03-09 15:35:00\n",
              "18830   2017-07-09 08:37:00\n",
              "18831   2018-08-22 14:27:00\n",
              "18832   2018-02-08 14:05:00\n",
              "18833   2018-10-26 14:18:00\n",
              "Name: listing_date, Length: 18834, dtype: datetime64[ns]"
            ]
          },
          "metadata": {},
          "execution_count": 13
        }
      ]
    },
    {
      "cell_type": "markdown",
      "source": [
        "## **creating a new coloumn (time duration for delivery)**"
      ],
      "metadata": {
        "id": "F80vSLex2iXh"
      }
    },
    {
      "cell_type": "code",
      "source": [
        "Train_DataSets[\"Time_Diff\"] = listing_date - issue_date\n",
        "Train_DataSets.Time_Diff"
      ],
      "metadata": {
        "colab": {
          "base_uri": "https://localhost:8080/"
        },
        "id": "usxLEup52c_Z",
        "outputId": "691ddbf6-4419-470d-f9c5-3dccc8be7589"
      },
      "execution_count": 14,
      "outputs": [
        {
          "output_type": "execute_result",
          "data": {
            "text/plain": [
              "0         73 days 16:25:00\n",
              "1       1862 days 17:47:00\n",
              "2        752 days 08:24:00\n",
              "3        755 days 18:30:00\n",
              "4         52 days 09:38:00\n",
              "               ...        \n",
              "18829    407 days 15:35:00\n",
              "18830    386 days 08:37:00\n",
              "18831   2954 days 14:27:00\n",
              "18832    272 days 14:05:00\n",
              "18833   2509 days 14:18:00\n",
              "Name: Time_Diff, Length: 18834, dtype: timedelta64[ns]"
            ]
          },
          "metadata": {},
          "execution_count": 14
        }
      ]
    },
    {
      "cell_type": "code",
      "source": [
        "Train_DataSets[\"Time_Diff\"] = Train_DataSets.Time_Diff.dt.total_seconds()\n",
        "\n",
        "Train_DataSets.Time_Diff"
      ],
      "metadata": {
        "colab": {
          "base_uri": "https://localhost:8080/"
        },
        "id": "CJQ6SgdR3SOe",
        "outputId": "ea66ce1c-7b2a-44fd-d147-8491a4c8222f"
      },
      "execution_count": 15,
      "outputs": [
        {
          "output_type": "execute_result",
          "data": {
            "text/plain": [
              "0          6366300.0\n",
              "1        160940820.0\n",
              "2         65003040.0\n",
              "3         65298600.0\n",
              "4          4527480.0\n",
              "            ...     \n",
              "18829     35220900.0\n",
              "18830     33381420.0\n",
              "18831    255277620.0\n",
              "18832     23551500.0\n",
              "18833    216829080.0\n",
              "Name: Time_Diff, Length: 18834, dtype: float64"
            ]
          },
          "metadata": {},
          "execution_count": 15
        }
      ]
    },
    {
      "cell_type": "markdown",
      "source": [
        "## **applying log**"
      ],
      "metadata": {
        "id": "a6O9arMa4Pyn"
      }
    },
    {
      "cell_type": "code",
      "source": [
        "Train_DataSets[\"Time_Diff\"] = np.log1p(Train_DataSets['Time_Diff'])\n",
        "Train_DataSets.Time_Diff"
      ],
      "metadata": {
        "colab": {
          "base_uri": "https://localhost:8080/"
        },
        "id": "ISvBFsKD4QF7",
        "outputId": "96f77c95-417f-46e4-f162-db745ea3c2af"
      },
      "execution_count": 16,
      "outputs": [
        {
          "output_type": "stream",
          "name": "stderr",
          "text": [
            "/usr/local/lib/python3.7/dist-packages/pandas/core/arraylike.py:364: RuntimeWarning: invalid value encountered in log1p\n",
            "  result = getattr(ufunc, method)(*inputs, **kwargs)\n"
          ]
        },
        {
          "output_type": "execute_result",
          "data": {
            "text/plain": [
              "0        15.666529\n",
              "1        18.896547\n",
              "2        17.989945\n",
              "3        17.994481\n",
              "4        15.325676\n",
              "           ...    \n",
              "18829    17.377150\n",
              "18830    17.323510\n",
              "18831    19.357862\n",
              "18832    16.974700\n",
              "18833    19.194620\n",
              "Name: Time_Diff, Length: 18834, dtype: float64"
            ]
          },
          "metadata": {},
          "execution_count": 16
        }
      ]
    },
    {
      "cell_type": "markdown",
      "source": [
        "## F**ind Depandent and Indepandent variables using datasets,where x are independent values and y : dependent values**"
      ],
      "metadata": {
        "id": "cF-wk8c_BEH2"
      }
    },
    {
      "cell_type": "code",
      "source": [
        "X = Train_DataSets.drop(['breed_category' , 'pet_category'],axis=1)\n",
        "X.head()"
      ],
      "metadata": {
        "colab": {
          "base_uri": "https://localhost:8080/",
          "height": 206
        },
        "id": "uVEyijzOBSxg",
        "outputId": "43b63a56-1764-48a2-8c37-304ea298855e"
      },
      "execution_count": 17,
      "outputs": [
        {
          "output_type": "execute_result",
          "data": {
            "text/html": [
              "\n",
              "  <div id=\"df-3b30d150-c7e1-47e4-9b01-07316ad7ad0d\">\n",
              "    <div class=\"colab-df-container\">\n",
              "      <div>\n",
              "<style scoped>\n",
              "    .dataframe tbody tr th:only-of-type {\n",
              "        vertical-align: middle;\n",
              "    }\n",
              "\n",
              "    .dataframe tbody tr th {\n",
              "        vertical-align: top;\n",
              "    }\n",
              "\n",
              "    .dataframe thead th {\n",
              "        text-align: right;\n",
              "    }\n",
              "</style>\n",
              "<table border=\"1\" class=\"dataframe\">\n",
              "  <thead>\n",
              "    <tr style=\"text-align: right;\">\n",
              "      <th></th>\n",
              "      <th>pet_id</th>\n",
              "      <th>issue_date</th>\n",
              "      <th>listing_date</th>\n",
              "      <th>condition</th>\n",
              "      <th>color_type</th>\n",
              "      <th>length(m)</th>\n",
              "      <th>height(cm)</th>\n",
              "      <th>X1</th>\n",
              "      <th>X2</th>\n",
              "      <th>Time_Diff</th>\n",
              "    </tr>\n",
              "  </thead>\n",
              "  <tbody>\n",
              "    <tr>\n",
              "      <th>0</th>\n",
              "      <td>ANSL_69903</td>\n",
              "      <td>2016-07-10 00:00:00</td>\n",
              "      <td>2016-09-21 16:25:00</td>\n",
              "      <td>2.0</td>\n",
              "      <td>Brown Tabby</td>\n",
              "      <td>0.80</td>\n",
              "      <td>7.78</td>\n",
              "      <td>13</td>\n",
              "      <td>9</td>\n",
              "      <td>15.666529</td>\n",
              "    </tr>\n",
              "    <tr>\n",
              "      <th>1</th>\n",
              "      <td>ANSL_66892</td>\n",
              "      <td>2013-11-21 00:00:00</td>\n",
              "      <td>2018-12-27 17:47:00</td>\n",
              "      <td>1.0</td>\n",
              "      <td>White</td>\n",
              "      <td>0.72</td>\n",
              "      <td>14.19</td>\n",
              "      <td>13</td>\n",
              "      <td>9</td>\n",
              "      <td>18.896547</td>\n",
              "    </tr>\n",
              "    <tr>\n",
              "      <th>2</th>\n",
              "      <td>ANSL_69750</td>\n",
              "      <td>2014-09-28 00:00:00</td>\n",
              "      <td>2016-10-19 08:24:00</td>\n",
              "      <td>1.0</td>\n",
              "      <td>Brown</td>\n",
              "      <td>0.15</td>\n",
              "      <td>40.90</td>\n",
              "      <td>15</td>\n",
              "      <td>4</td>\n",
              "      <td>17.989945</td>\n",
              "    </tr>\n",
              "    <tr>\n",
              "      <th>3</th>\n",
              "      <td>ANSL_71623</td>\n",
              "      <td>2016-12-31 00:00:00</td>\n",
              "      <td>2019-01-25 18:30:00</td>\n",
              "      <td>1.0</td>\n",
              "      <td>White</td>\n",
              "      <td>0.62</td>\n",
              "      <td>17.82</td>\n",
              "      <td>0</td>\n",
              "      <td>1</td>\n",
              "      <td>17.994481</td>\n",
              "    </tr>\n",
              "    <tr>\n",
              "      <th>4</th>\n",
              "      <td>ANSL_57969</td>\n",
              "      <td>2017-09-28 00:00:00</td>\n",
              "      <td>2017-11-19 09:38:00</td>\n",
              "      <td>2.0</td>\n",
              "      <td>Black</td>\n",
              "      <td>0.50</td>\n",
              "      <td>11.06</td>\n",
              "      <td>18</td>\n",
              "      <td>4</td>\n",
              "      <td>15.325676</td>\n",
              "    </tr>\n",
              "  </tbody>\n",
              "</table>\n",
              "</div>\n",
              "      <button class=\"colab-df-convert\" onclick=\"convertToInteractive('df-3b30d150-c7e1-47e4-9b01-07316ad7ad0d')\"\n",
              "              title=\"Convert this dataframe to an interactive table.\"\n",
              "              style=\"display:none;\">\n",
              "        \n",
              "  <svg xmlns=\"http://www.w3.org/2000/svg\" height=\"24px\"viewBox=\"0 0 24 24\"\n",
              "       width=\"24px\">\n",
              "    <path d=\"M0 0h24v24H0V0z\" fill=\"none\"/>\n",
              "    <path d=\"M18.56 5.44l.94 2.06.94-2.06 2.06-.94-2.06-.94-.94-2.06-.94 2.06-2.06.94zm-11 1L8.5 8.5l.94-2.06 2.06-.94-2.06-.94L8.5 2.5l-.94 2.06-2.06.94zm10 10l.94 2.06.94-2.06 2.06-.94-2.06-.94-.94-2.06-.94 2.06-2.06.94z\"/><path d=\"M17.41 7.96l-1.37-1.37c-.4-.4-.92-.59-1.43-.59-.52 0-1.04.2-1.43.59L10.3 9.45l-7.72 7.72c-.78.78-.78 2.05 0 2.83L4 21.41c.39.39.9.59 1.41.59.51 0 1.02-.2 1.41-.59l7.78-7.78 2.81-2.81c.8-.78.8-2.07 0-2.86zM5.41 20L4 18.59l7.72-7.72 1.47 1.35L5.41 20z\"/>\n",
              "  </svg>\n",
              "      </button>\n",
              "      \n",
              "  <style>\n",
              "    .colab-df-container {\n",
              "      display:flex;\n",
              "      flex-wrap:wrap;\n",
              "      gap: 12px;\n",
              "    }\n",
              "\n",
              "    .colab-df-convert {\n",
              "      background-color: #E8F0FE;\n",
              "      border: none;\n",
              "      border-radius: 50%;\n",
              "      cursor: pointer;\n",
              "      display: none;\n",
              "      fill: #1967D2;\n",
              "      height: 32px;\n",
              "      padding: 0 0 0 0;\n",
              "      width: 32px;\n",
              "    }\n",
              "\n",
              "    .colab-df-convert:hover {\n",
              "      background-color: #E2EBFA;\n",
              "      box-shadow: 0px 1px 2px rgba(60, 64, 67, 0.3), 0px 1px 3px 1px rgba(60, 64, 67, 0.15);\n",
              "      fill: #174EA6;\n",
              "    }\n",
              "\n",
              "    [theme=dark] .colab-df-convert {\n",
              "      background-color: #3B4455;\n",
              "      fill: #D2E3FC;\n",
              "    }\n",
              "\n",
              "    [theme=dark] .colab-df-convert:hover {\n",
              "      background-color: #434B5C;\n",
              "      box-shadow: 0px 1px 3px 1px rgba(0, 0, 0, 0.15);\n",
              "      filter: drop-shadow(0px 1px 2px rgba(0, 0, 0, 0.3));\n",
              "      fill: #FFFFFF;\n",
              "    }\n",
              "  </style>\n",
              "\n",
              "      <script>\n",
              "        const buttonEl =\n",
              "          document.querySelector('#df-3b30d150-c7e1-47e4-9b01-07316ad7ad0d button.colab-df-convert');\n",
              "        buttonEl.style.display =\n",
              "          google.colab.kernel.accessAllowed ? 'block' : 'none';\n",
              "\n",
              "        async function convertToInteractive(key) {\n",
              "          const element = document.querySelector('#df-3b30d150-c7e1-47e4-9b01-07316ad7ad0d');\n",
              "          const dataTable =\n",
              "            await google.colab.kernel.invokeFunction('convertToInteractive',\n",
              "                                                     [key], {});\n",
              "          if (!dataTable) return;\n",
              "\n",
              "          const docLinkHtml = 'Like what you see? Visit the ' +\n",
              "            '<a target=\"_blank\" href=https://colab.research.google.com/notebooks/data_table.ipynb>data table notebook</a>'\n",
              "            + ' to learn more about interactive tables.';\n",
              "          element.innerHTML = '';\n",
              "          dataTable['output_type'] = 'display_data';\n",
              "          await google.colab.output.renderOutput(dataTable, element);\n",
              "          const docLink = document.createElement('div');\n",
              "          docLink.innerHTML = docLinkHtml;\n",
              "          element.appendChild(docLink);\n",
              "        }\n",
              "      </script>\n",
              "    </div>\n",
              "  </div>\n",
              "  "
            ],
            "text/plain": [
              "       pet_id           issue_date         listing_date  ...  X1 X2  Time_Diff\n",
              "0  ANSL_69903  2016-07-10 00:00:00  2016-09-21 16:25:00  ...  13  9  15.666529\n",
              "1  ANSL_66892  2013-11-21 00:00:00  2018-12-27 17:47:00  ...  13  9  18.896547\n",
              "2  ANSL_69750  2014-09-28 00:00:00  2016-10-19 08:24:00  ...  15  4  17.989945\n",
              "3  ANSL_71623  2016-12-31 00:00:00  2019-01-25 18:30:00  ...   0  1  17.994481\n",
              "4  ANSL_57969  2017-09-28 00:00:00  2017-11-19 09:38:00  ...  18  4  15.325676\n",
              "\n",
              "[5 rows x 10 columns]"
            ]
          },
          "metadata": {},
          "execution_count": 17
        }
      ]
    },
    {
      "cell_type": "markdown",
      "source": [
        "##**Traget Variables**"
      ],
      "metadata": {
        "id": "01v29x6JC6ji"
      }
    },
    {
      "cell_type": "code",
      "source": [
        "y1=Train_DataSets['breed_category']  \n",
        "y1.head()"
      ],
      "metadata": {
        "colab": {
          "base_uri": "https://localhost:8080/"
        },
        "id": "hIWMLkOFCVCv",
        "outputId": "9d99540b-dcc5-4d6d-cb52-5f233791b579"
      },
      "execution_count": 18,
      "outputs": [
        {
          "output_type": "execute_result",
          "data": {
            "text/plain": [
              "0    0.0\n",
              "1    0.0\n",
              "2    2.0\n",
              "3    0.0\n",
              "4    0.0\n",
              "Name: breed_category, dtype: float64"
            ]
          },
          "metadata": {},
          "execution_count": 18
        }
      ]
    },
    {
      "cell_type": "code",
      "source": [
        "y2=Train_DataSets['pet_category']\n",
        "y2.head()"
      ],
      "metadata": {
        "colab": {
          "base_uri": "https://localhost:8080/"
        },
        "id": "e58Kw8aiMNH-",
        "outputId": "b908ac24-50a6-48ca-f488-0b5076afd6e6"
      },
      "execution_count": 19,
      "outputs": [
        {
          "output_type": "execute_result",
          "data": {
            "text/plain": [
              "0    1\n",
              "1    2\n",
              "2    4\n",
              "3    2\n",
              "4    1\n",
              "Name: pet_category, dtype: int64"
            ]
          },
          "metadata": {},
          "execution_count": 19
        }
      ]
    },
    {
      "cell_type": "markdown",
      "source": [
        "##**Features Seleaction**\n",
        "\n",
        "Seleact Required Features form  X independent Variables to build a model that can predict breed_category Ang pet_category"
      ],
      "metadata": {
        "id": "76751Z5x8LuT"
      }
    },
    {
      "cell_type": "code",
      "source": [
        "X_Features = X.iloc[:,3:]\n",
        "X_Features.head()"
      ],
      "metadata": {
        "colab": {
          "base_uri": "https://localhost:8080/",
          "height": 206
        },
        "id": "eHhsxg1x8S_7",
        "outputId": "7b737a8d-1197-4eeb-e2df-052581b3255a"
      },
      "execution_count": 20,
      "outputs": [
        {
          "output_type": "execute_result",
          "data": {
            "text/html": [
              "\n",
              "  <div id=\"df-070211df-b24b-48a7-86e2-76321559b49d\">\n",
              "    <div class=\"colab-df-container\">\n",
              "      <div>\n",
              "<style scoped>\n",
              "    .dataframe tbody tr th:only-of-type {\n",
              "        vertical-align: middle;\n",
              "    }\n",
              "\n",
              "    .dataframe tbody tr th {\n",
              "        vertical-align: top;\n",
              "    }\n",
              "\n",
              "    .dataframe thead th {\n",
              "        text-align: right;\n",
              "    }\n",
              "</style>\n",
              "<table border=\"1\" class=\"dataframe\">\n",
              "  <thead>\n",
              "    <tr style=\"text-align: right;\">\n",
              "      <th></th>\n",
              "      <th>condition</th>\n",
              "      <th>color_type</th>\n",
              "      <th>length(m)</th>\n",
              "      <th>height(cm)</th>\n",
              "      <th>X1</th>\n",
              "      <th>X2</th>\n",
              "      <th>Time_Diff</th>\n",
              "    </tr>\n",
              "  </thead>\n",
              "  <tbody>\n",
              "    <tr>\n",
              "      <th>0</th>\n",
              "      <td>2.0</td>\n",
              "      <td>Brown Tabby</td>\n",
              "      <td>0.80</td>\n",
              "      <td>7.78</td>\n",
              "      <td>13</td>\n",
              "      <td>9</td>\n",
              "      <td>15.666529</td>\n",
              "    </tr>\n",
              "    <tr>\n",
              "      <th>1</th>\n",
              "      <td>1.0</td>\n",
              "      <td>White</td>\n",
              "      <td>0.72</td>\n",
              "      <td>14.19</td>\n",
              "      <td>13</td>\n",
              "      <td>9</td>\n",
              "      <td>18.896547</td>\n",
              "    </tr>\n",
              "    <tr>\n",
              "      <th>2</th>\n",
              "      <td>1.0</td>\n",
              "      <td>Brown</td>\n",
              "      <td>0.15</td>\n",
              "      <td>40.90</td>\n",
              "      <td>15</td>\n",
              "      <td>4</td>\n",
              "      <td>17.989945</td>\n",
              "    </tr>\n",
              "    <tr>\n",
              "      <th>3</th>\n",
              "      <td>1.0</td>\n",
              "      <td>White</td>\n",
              "      <td>0.62</td>\n",
              "      <td>17.82</td>\n",
              "      <td>0</td>\n",
              "      <td>1</td>\n",
              "      <td>17.994481</td>\n",
              "    </tr>\n",
              "    <tr>\n",
              "      <th>4</th>\n",
              "      <td>2.0</td>\n",
              "      <td>Black</td>\n",
              "      <td>0.50</td>\n",
              "      <td>11.06</td>\n",
              "      <td>18</td>\n",
              "      <td>4</td>\n",
              "      <td>15.325676</td>\n",
              "    </tr>\n",
              "  </tbody>\n",
              "</table>\n",
              "</div>\n",
              "      <button class=\"colab-df-convert\" onclick=\"convertToInteractive('df-070211df-b24b-48a7-86e2-76321559b49d')\"\n",
              "              title=\"Convert this dataframe to an interactive table.\"\n",
              "              style=\"display:none;\">\n",
              "        \n",
              "  <svg xmlns=\"http://www.w3.org/2000/svg\" height=\"24px\"viewBox=\"0 0 24 24\"\n",
              "       width=\"24px\">\n",
              "    <path d=\"M0 0h24v24H0V0z\" fill=\"none\"/>\n",
              "    <path d=\"M18.56 5.44l.94 2.06.94-2.06 2.06-.94-2.06-.94-.94-2.06-.94 2.06-2.06.94zm-11 1L8.5 8.5l.94-2.06 2.06-.94-2.06-.94L8.5 2.5l-.94 2.06-2.06.94zm10 10l.94 2.06.94-2.06 2.06-.94-2.06-.94-.94-2.06-.94 2.06-2.06.94z\"/><path d=\"M17.41 7.96l-1.37-1.37c-.4-.4-.92-.59-1.43-.59-.52 0-1.04.2-1.43.59L10.3 9.45l-7.72 7.72c-.78.78-.78 2.05 0 2.83L4 21.41c.39.39.9.59 1.41.59.51 0 1.02-.2 1.41-.59l7.78-7.78 2.81-2.81c.8-.78.8-2.07 0-2.86zM5.41 20L4 18.59l7.72-7.72 1.47 1.35L5.41 20z\"/>\n",
              "  </svg>\n",
              "      </button>\n",
              "      \n",
              "  <style>\n",
              "    .colab-df-container {\n",
              "      display:flex;\n",
              "      flex-wrap:wrap;\n",
              "      gap: 12px;\n",
              "    }\n",
              "\n",
              "    .colab-df-convert {\n",
              "      background-color: #E8F0FE;\n",
              "      border: none;\n",
              "      border-radius: 50%;\n",
              "      cursor: pointer;\n",
              "      display: none;\n",
              "      fill: #1967D2;\n",
              "      height: 32px;\n",
              "      padding: 0 0 0 0;\n",
              "      width: 32px;\n",
              "    }\n",
              "\n",
              "    .colab-df-convert:hover {\n",
              "      background-color: #E2EBFA;\n",
              "      box-shadow: 0px 1px 2px rgba(60, 64, 67, 0.3), 0px 1px 3px 1px rgba(60, 64, 67, 0.15);\n",
              "      fill: #174EA6;\n",
              "    }\n",
              "\n",
              "    [theme=dark] .colab-df-convert {\n",
              "      background-color: #3B4455;\n",
              "      fill: #D2E3FC;\n",
              "    }\n",
              "\n",
              "    [theme=dark] .colab-df-convert:hover {\n",
              "      background-color: #434B5C;\n",
              "      box-shadow: 0px 1px 3px 1px rgba(0, 0, 0, 0.15);\n",
              "      filter: drop-shadow(0px 1px 2px rgba(0, 0, 0, 0.3));\n",
              "      fill: #FFFFFF;\n",
              "    }\n",
              "  </style>\n",
              "\n",
              "      <script>\n",
              "        const buttonEl =\n",
              "          document.querySelector('#df-070211df-b24b-48a7-86e2-76321559b49d button.colab-df-convert');\n",
              "        buttonEl.style.display =\n",
              "          google.colab.kernel.accessAllowed ? 'block' : 'none';\n",
              "\n",
              "        async function convertToInteractive(key) {\n",
              "          const element = document.querySelector('#df-070211df-b24b-48a7-86e2-76321559b49d');\n",
              "          const dataTable =\n",
              "            await google.colab.kernel.invokeFunction('convertToInteractive',\n",
              "                                                     [key], {});\n",
              "          if (!dataTable) return;\n",
              "\n",
              "          const docLinkHtml = 'Like what you see? Visit the ' +\n",
              "            '<a target=\"_blank\" href=https://colab.research.google.com/notebooks/data_table.ipynb>data table notebook</a>'\n",
              "            + ' to learn more about interactive tables.';\n",
              "          element.innerHTML = '';\n",
              "          dataTable['output_type'] = 'display_data';\n",
              "          await google.colab.output.renderOutput(dataTable, element);\n",
              "          const docLink = document.createElement('div');\n",
              "          docLink.innerHTML = docLinkHtml;\n",
              "          element.appendChild(docLink);\n",
              "        }\n",
              "      </script>\n",
              "    </div>\n",
              "  </div>\n",
              "  "
            ],
            "text/plain": [
              "   condition   color_type  length(m)  height(cm)  X1  X2  Time_Diff\n",
              "0        2.0  Brown Tabby       0.80        7.78  13   9  15.666529\n",
              "1        1.0        White       0.72       14.19  13   9  18.896547\n",
              "2        1.0        Brown       0.15       40.90  15   4  17.989945\n",
              "3        1.0        White       0.62       17.82   0   1  17.994481\n",
              "4        2.0        Black       0.50       11.06  18   4  15.325676"
            ]
          },
          "metadata": {},
          "execution_count": 20
        }
      ]
    },
    {
      "cell_type": "markdown",
      "source": [
        "##**Catgorical data**\n",
        "As we can see in the above output,the color_type column contains categorical variables which are not suitable to apply directly for fitting in model.So we need to encode this variable."
      ],
      "metadata": {
        "id": "iQIWH3V2-jjA"
      }
    },
    {
      "cell_type": "code",
      "source": [
        "from sklearn.preprocessing import LabelEncoder\n",
        "col=['color_type']\n",
        "for c in col:\n",
        "  LabelEncoder=LabelEncoder()\n",
        "  X_Features['color_type']=LabelEncoder.fit_transform(X_Features.color_type)\n",
        "\n",
        "X_Features.head()"
      ],
      "metadata": {
        "colab": {
          "base_uri": "https://localhost:8080/",
          "height": 206
        },
        "id": "_aI8eLWa_EZs",
        "outputId": "f2a742bc-59e1-43e9-bcd6-24c526dae7dd"
      },
      "execution_count": 21,
      "outputs": [
        {
          "output_type": "execute_result",
          "data": {
            "text/html": [
              "\n",
              "  <div id=\"df-f0994264-aec8-494f-8e4b-8c33d4c1b4fb\">\n",
              "    <div class=\"colab-df-container\">\n",
              "      <div>\n",
              "<style scoped>\n",
              "    .dataframe tbody tr th:only-of-type {\n",
              "        vertical-align: middle;\n",
              "    }\n",
              "\n",
              "    .dataframe tbody tr th {\n",
              "        vertical-align: top;\n",
              "    }\n",
              "\n",
              "    .dataframe thead th {\n",
              "        text-align: right;\n",
              "    }\n",
              "</style>\n",
              "<table border=\"1\" class=\"dataframe\">\n",
              "  <thead>\n",
              "    <tr style=\"text-align: right;\">\n",
              "      <th></th>\n",
              "      <th>condition</th>\n",
              "      <th>color_type</th>\n",
              "      <th>length(m)</th>\n",
              "      <th>height(cm)</th>\n",
              "      <th>X1</th>\n",
              "      <th>X2</th>\n",
              "      <th>Time_Diff</th>\n",
              "    </tr>\n",
              "  </thead>\n",
              "  <tbody>\n",
              "    <tr>\n",
              "      <th>0</th>\n",
              "      <td>2.0</td>\n",
              "      <td>18</td>\n",
              "      <td>0.80</td>\n",
              "      <td>7.78</td>\n",
              "      <td>13</td>\n",
              "      <td>9</td>\n",
              "      <td>15.666529</td>\n",
              "    </tr>\n",
              "    <tr>\n",
              "      <th>1</th>\n",
              "      <td>1.0</td>\n",
              "      <td>53</td>\n",
              "      <td>0.72</td>\n",
              "      <td>14.19</td>\n",
              "      <td>13</td>\n",
              "      <td>9</td>\n",
              "      <td>18.896547</td>\n",
              "    </tr>\n",
              "    <tr>\n",
              "      <th>2</th>\n",
              "      <td>1.0</td>\n",
              "      <td>15</td>\n",
              "      <td>0.15</td>\n",
              "      <td>40.90</td>\n",
              "      <td>15</td>\n",
              "      <td>4</td>\n",
              "      <td>17.989945</td>\n",
              "    </tr>\n",
              "    <tr>\n",
              "      <th>3</th>\n",
              "      <td>1.0</td>\n",
              "      <td>53</td>\n",
              "      <td>0.62</td>\n",
              "      <td>17.82</td>\n",
              "      <td>0</td>\n",
              "      <td>1</td>\n",
              "      <td>17.994481</td>\n",
              "    </tr>\n",
              "    <tr>\n",
              "      <th>4</th>\n",
              "      <td>2.0</td>\n",
              "      <td>2</td>\n",
              "      <td>0.50</td>\n",
              "      <td>11.06</td>\n",
              "      <td>18</td>\n",
              "      <td>4</td>\n",
              "      <td>15.325676</td>\n",
              "    </tr>\n",
              "  </tbody>\n",
              "</table>\n",
              "</div>\n",
              "      <button class=\"colab-df-convert\" onclick=\"convertToInteractive('df-f0994264-aec8-494f-8e4b-8c33d4c1b4fb')\"\n",
              "              title=\"Convert this dataframe to an interactive table.\"\n",
              "              style=\"display:none;\">\n",
              "        \n",
              "  <svg xmlns=\"http://www.w3.org/2000/svg\" height=\"24px\"viewBox=\"0 0 24 24\"\n",
              "       width=\"24px\">\n",
              "    <path d=\"M0 0h24v24H0V0z\" fill=\"none\"/>\n",
              "    <path d=\"M18.56 5.44l.94 2.06.94-2.06 2.06-.94-2.06-.94-.94-2.06-.94 2.06-2.06.94zm-11 1L8.5 8.5l.94-2.06 2.06-.94-2.06-.94L8.5 2.5l-.94 2.06-2.06.94zm10 10l.94 2.06.94-2.06 2.06-.94-2.06-.94-.94-2.06-.94 2.06-2.06.94z\"/><path d=\"M17.41 7.96l-1.37-1.37c-.4-.4-.92-.59-1.43-.59-.52 0-1.04.2-1.43.59L10.3 9.45l-7.72 7.72c-.78.78-.78 2.05 0 2.83L4 21.41c.39.39.9.59 1.41.59.51 0 1.02-.2 1.41-.59l7.78-7.78 2.81-2.81c.8-.78.8-2.07 0-2.86zM5.41 20L4 18.59l7.72-7.72 1.47 1.35L5.41 20z\"/>\n",
              "  </svg>\n",
              "      </button>\n",
              "      \n",
              "  <style>\n",
              "    .colab-df-container {\n",
              "      display:flex;\n",
              "      flex-wrap:wrap;\n",
              "      gap: 12px;\n",
              "    }\n",
              "\n",
              "    .colab-df-convert {\n",
              "      background-color: #E8F0FE;\n",
              "      border: none;\n",
              "      border-radius: 50%;\n",
              "      cursor: pointer;\n",
              "      display: none;\n",
              "      fill: #1967D2;\n",
              "      height: 32px;\n",
              "      padding: 0 0 0 0;\n",
              "      width: 32px;\n",
              "    }\n",
              "\n",
              "    .colab-df-convert:hover {\n",
              "      background-color: #E2EBFA;\n",
              "      box-shadow: 0px 1px 2px rgba(60, 64, 67, 0.3), 0px 1px 3px 1px rgba(60, 64, 67, 0.15);\n",
              "      fill: #174EA6;\n",
              "    }\n",
              "\n",
              "    [theme=dark] .colab-df-convert {\n",
              "      background-color: #3B4455;\n",
              "      fill: #D2E3FC;\n",
              "    }\n",
              "\n",
              "    [theme=dark] .colab-df-convert:hover {\n",
              "      background-color: #434B5C;\n",
              "      box-shadow: 0px 1px 3px 1px rgba(0, 0, 0, 0.15);\n",
              "      filter: drop-shadow(0px 1px 2px rgba(0, 0, 0, 0.3));\n",
              "      fill: #FFFFFF;\n",
              "    }\n",
              "  </style>\n",
              "\n",
              "      <script>\n",
              "        const buttonEl =\n",
              "          document.querySelector('#df-f0994264-aec8-494f-8e4b-8c33d4c1b4fb button.colab-df-convert');\n",
              "        buttonEl.style.display =\n",
              "          google.colab.kernel.accessAllowed ? 'block' : 'none';\n",
              "\n",
              "        async function convertToInteractive(key) {\n",
              "          const element = document.querySelector('#df-f0994264-aec8-494f-8e4b-8c33d4c1b4fb');\n",
              "          const dataTable =\n",
              "            await google.colab.kernel.invokeFunction('convertToInteractive',\n",
              "                                                     [key], {});\n",
              "          if (!dataTable) return;\n",
              "\n",
              "          const docLinkHtml = 'Like what you see? Visit the ' +\n",
              "            '<a target=\"_blank\" href=https://colab.research.google.com/notebooks/data_table.ipynb>data table notebook</a>'\n",
              "            + ' to learn more about interactive tables.';\n",
              "          element.innerHTML = '';\n",
              "          dataTable['output_type'] = 'display_data';\n",
              "          await google.colab.output.renderOutput(dataTable, element);\n",
              "          const docLink = document.createElement('div');\n",
              "          docLink.innerHTML = docLinkHtml;\n",
              "          element.appendChild(docLink);\n",
              "        }\n",
              "      </script>\n",
              "    </div>\n",
              "  </div>\n",
              "  "
            ],
            "text/plain": [
              "   condition  color_type  length(m)  height(cm)  X1  X2  Time_Diff\n",
              "0        2.0          18       0.80        7.78  13   9  15.666529\n",
              "1        1.0          53       0.72       14.19  13   9  18.896547\n",
              "2        1.0          15       0.15       40.90  15   4  17.989945\n",
              "3        1.0          53       0.62       17.82   0   1  17.994481\n",
              "4        2.0           2       0.50       11.06  18   4  15.325676"
            ]
          },
          "metadata": {},
          "execution_count": 21
        }
      ]
    },
    {
      "cell_type": "markdown",
      "source": [
        "##**Splitting Data into train and test**"
      ],
      "metadata": {
        "id": "LhRtiIyFAdey"
      }
    },
    {
      "cell_type": "code",
      "source": [
        "from sklearn.model_selection import train_test_split\n",
        "\n",
        "# For y1 Prediction\n",
        "\n",
        "X1_train,X1_test,y1_train,y1_test=train_test_split(X_Features,y1 ,test_size=0.2 ,random_state=0)\n",
        "\n"
      ],
      "metadata": {
        "id": "JJtzJbLuGicY"
      },
      "execution_count": 22,
      "outputs": []
    },
    {
      "cell_type": "code",
      "source": [
        "# For y2 Prediction\n",
        "\n",
        "X2_train,X2_test,y2_train,y2_test=train_test_split(X_Features,y2 ,test_size=0.2 ,random_state=0)\n"
      ],
      "metadata": {
        "id": "TKisod544-WO"
      },
      "execution_count": 23,
      "outputs": []
    },
    {
      "cell_type": "markdown",
      "source": [
        "##**Machine Learning Models**\n",
        "\n",
        " Training the XGBRegressor model Using Training set\n"
      ],
      "metadata": {
        "id": "w98iXvKEImkf"
      }
    },
    {
      "cell_type": "markdown",
      "source": [
        "##**APPROACH :**\n",
        "The idea here is to predict breed_category first and join it with train_data and train one more model and predict pet_category."
      ],
      "metadata": {
        "id": "GKiDF1XlKehe"
      }
    },
    {
      "cell_type": "markdown",
      "source": [
        "##**XGB Classifier Model**"
      ],
      "metadata": {
        "id": "kUigOv_CX63a"
      }
    },
    {
      "cell_type": "code",
      "source": [
        "from xgboost import XGBClassifier\n",
        "XGB_Model = XGBClassifier()\n",
        "\n",
        "XGB_Model.fit(X1_train,y1_train)\n",
        "\n",
        "XGBClassifier(base_score=0.5, booster='gbtree', colsample_bylevel=1,\n",
        "              colsample_bynode=1, colsample_bytree=1, gamma=0, gpu_id=-1,\n",
        "              importance_type='gain', interaction_constraints='',\n",
        "              learning_rate=0.300000012, max_delta_step=0, max_depth=6,\n",
        "              min_child_weight=1, monotone_constraints='()',\n",
        "              n_estimators=100, n_jobs=0, num_parallel_tree=1,\n",
        "              objective='multi:softprob', random_state=0, reg_alpha=0,\n",
        "              reg_lambda=1, scale_pos_weight=None, subsample=1,\n",
        "              tree_method='exact', validate_parameters=1, verbosity=None)\n"
      ],
      "metadata": {
        "colab": {
          "base_uri": "https://localhost:8080/"
        },
        "id": "RvUdsydNKa7i",
        "outputId": "d3ab7896-11f7-4b50-b0f9-aa414fd45ab4"
      },
      "execution_count": 56,
      "outputs": [
        {
          "output_type": "execute_result",
          "data": {
            "text/plain": [
              "XGBClassifier(gpu_id=-1, interaction_constraints='', learning_rate=0.300000012,\n",
              "              max_depth=6, monotone_constraints='()', n_jobs=0,\n",
              "              num_parallel_tree=1, objective='multi:softprob',\n",
              "              scale_pos_weight=None, tree_method='exact', validate_parameters=1,\n",
              "              verbosity=None)"
            ]
          },
          "metadata": {},
          "execution_count": 56
        }
      ]
    },
    {
      "cell_type": "markdown",
      "source": [
        "##**y1 Prediction**\n",
        "Predicting the Test set Results"
      ],
      "metadata": {
        "id": "wW3LhCe1OTvM"
      }
    },
    {
      "cell_type": "code",
      "source": [
        "Y1_Pred= XGB_Model.predict(X1_test)\n",
        "Y1_Pred = pd.Series(Y1_Pred)\n",
        "Y1_Pred"
      ],
      "metadata": {
        "colab": {
          "base_uri": "https://localhost:8080/"
        },
        "id": "xq5JR5ySOe5o",
        "outputId": "c1829bdb-b8e8-4751-c2ee-254e18f58734"
      },
      "execution_count": 57,
      "outputs": [
        {
          "output_type": "execute_result",
          "data": {
            "text/plain": [
              "0       0.0\n",
              "1       1.0\n",
              "2       0.0\n",
              "3       0.0\n",
              "4       0.0\n",
              "       ... \n",
              "3762    0.0\n",
              "3763    0.0\n",
              "3764    1.0\n",
              "3765    2.0\n",
              "3766    2.0\n",
              "Length: 3767, dtype: float64"
            ]
          },
          "metadata": {},
          "execution_count": 57
        }
      ]
    },
    {
      "cell_type": "markdown",
      "source": [
        "##**Validation of Model**"
      ],
      "metadata": {
        "id": "m4RVeeR5Qu1Z"
      }
    },
    {
      "cell_type": "code",
      "source": [
        "from sklearn.metrics import accuracy_score\n",
        "acc= accuracy_score(y1_test,Y1_Pred)\n",
        "print(\"Accuracy of madel is : \" ,acc)\n"
      ],
      "metadata": {
        "colab": {
          "base_uri": "https://localhost:8080/"
        },
        "id": "EyFBHl21Q6zk",
        "outputId": "0a372621-71b3-4b83-f802-9fbe46439908"
      },
      "execution_count": 58,
      "outputs": [
        {
          "output_type": "stream",
          "name": "stdout",
          "text": [
            "Accuracy of madel is :  0.8797451552959915\n"
          ]
        }
      ]
    },
    {
      "cell_type": "markdown",
      "source": [
        "##**y2 Prediction**"
      ],
      "metadata": {
        "id": "-wAlfxA956wA"
      }
    },
    {
      "cell_type": "code",
      "source": [
        "XGB_Model.fit(X2_train,y2_train)\n",
        "\n",
        "Y2_Pred= XGB_Model.predict(X2_test)\n",
        "Y2_Pred = pd.Series(Y2_Pred)\n",
        "Y2_Pred"
      ],
      "metadata": {
        "colab": {
          "base_uri": "https://localhost:8080/"
        },
        "id": "0CJQ7nb45tva",
        "outputId": "a01ffe13-d057-4d8e-b6bd-e7a207bd91f8"
      },
      "execution_count": 59,
      "outputs": [
        {
          "output_type": "execute_result",
          "data": {
            "text/plain": [
              "0       2\n",
              "1       2\n",
              "2       1\n",
              "3       1\n",
              "4       2\n",
              "       ..\n",
              "3762    1\n",
              "3763    2\n",
              "3764    2\n",
              "3765    1\n",
              "3766    4\n",
              "Length: 3767, dtype: int64"
            ]
          },
          "metadata": {},
          "execution_count": 59
        }
      ]
    },
    {
      "cell_type": "markdown",
      "source": [
        "## Accuracy of y2 model Prediction"
      ],
      "metadata": {
        "id": "51d43be66Bu4"
      }
    },
    {
      "cell_type": "code",
      "source": [
        "from sklearn.metrics import accuracy_score\n",
        "y2_acc= accuracy_score(y2_test,Y2_Pred)\n",
        "print(\"Accuracy of madel is : \" ,y2_acc)\n",
        "\n"
      ],
      "metadata": {
        "colab": {
          "base_uri": "https://localhost:8080/"
        },
        "id": "0GZU8cKG6Cuv",
        "outputId": "7123ae66-18c3-4331-fd2e-8f96f016c5fe"
      },
      "execution_count": 60,
      "outputs": [
        {
          "output_type": "stream",
          "name": "stdout",
          "text": [
            "Accuracy of madel is :  0.8863817361295461\n"
          ]
        }
      ]
    },
    {
      "cell_type": "markdown",
      "source": [
        "##**Evaluation Metric:**"
      ],
      "metadata": {
        "id": "n2v_xl0FrJaB"
      }
    },
    {
      "cell_type": "code",
      "source": [
        "from sklearn.metrics import f1_score\n",
        "Y1_f1_Score=f1_score(y1_test,Y1_Pred ,average=\"micro\")\n",
        "Y1_f1_Score"
      ],
      "metadata": {
        "colab": {
          "base_uri": "https://localhost:8080/"
        },
        "id": "rbhPulrDrM3Q",
        "outputId": "39a5f978-1718-42d8-c76d-f6d9798b9846"
      },
      "execution_count": 61,
      "outputs": [
        {
          "output_type": "execute_result",
          "data": {
            "text/plain": [
              "0.8797451552959915"
            ]
          },
          "metadata": {},
          "execution_count": 61
        }
      ]
    },
    {
      "cell_type": "code",
      "source": [
        "Y2_f1_Score=f1_score(y2_test,Y2_Pred ,average=\"micro\")\n",
        "Y2_f1_Score"
      ],
      "metadata": {
        "colab": {
          "base_uri": "https://localhost:8080/"
        },
        "id": "znOHs-CwV_bM",
        "outputId": "e4cb8cdf-1337-498d-d5f6-17c86393d709"
      },
      "execution_count": 62,
      "outputs": [
        {
          "output_type": "execute_result",
          "data": {
            "text/plain": [
              "0.8863817361295461"
            ]
          },
          "metadata": {},
          "execution_count": 62
        }
      ]
    },
    {
      "cell_type": "code",
      "source": [
        "S1 = Y1_f1_Score + Y2_f1_Score\n",
        "\n",
        "score=100*S1/2\n",
        "\n",
        "print(\"Score is : \",score)"
      ],
      "metadata": {
        "colab": {
          "base_uri": "https://localhost:8080/"
        },
        "id": "gYOMIlLsWWGW",
        "outputId": "7c376f64-688f-4b62-a22f-fc6d7d853cf6"
      },
      "execution_count": 63,
      "outputs": [
        {
          "output_type": "stream",
          "name": "stdout",
          "text": [
            "Score is :  88.30634457127688\n"
          ]
        }
      ]
    },
    {
      "cell_type": "markdown",
      "source": [
        "##=======================***Submission***======================"
      ],
      "metadata": {
        "id": "qGd2YOcl8h6n"
      }
    },
    {
      "cell_type": "code",
      "source": [
        "Test_DataSets =  pd.read_csv(\"test.csv\")\n",
        "Test_DataSets.head()"
      ],
      "metadata": {
        "colab": {
          "base_uri": "https://localhost:8080/",
          "height": 206
        },
        "id": "1lvlYmjN9rky",
        "outputId": "521b0889-41a8-4a09-cbd8-95dd1d30400f"
      },
      "execution_count": 39,
      "outputs": [
        {
          "output_type": "execute_result",
          "data": {
            "text/html": [
              "\n",
              "  <div id=\"df-ca0055a4-7d4d-4640-93c2-08a517bc7aa1\">\n",
              "    <div class=\"colab-df-container\">\n",
              "      <div>\n",
              "<style scoped>\n",
              "    .dataframe tbody tr th:only-of-type {\n",
              "        vertical-align: middle;\n",
              "    }\n",
              "\n",
              "    .dataframe tbody tr th {\n",
              "        vertical-align: top;\n",
              "    }\n",
              "\n",
              "    .dataframe thead th {\n",
              "        text-align: right;\n",
              "    }\n",
              "</style>\n",
              "<table border=\"1\" class=\"dataframe\">\n",
              "  <thead>\n",
              "    <tr style=\"text-align: right;\">\n",
              "      <th></th>\n",
              "      <th>pet_id</th>\n",
              "      <th>issue_date</th>\n",
              "      <th>listing_date</th>\n",
              "      <th>condition</th>\n",
              "      <th>color_type</th>\n",
              "      <th>length(m)</th>\n",
              "      <th>height(cm)</th>\n",
              "      <th>X1</th>\n",
              "      <th>X2</th>\n",
              "    </tr>\n",
              "  </thead>\n",
              "  <tbody>\n",
              "    <tr>\n",
              "      <th>0</th>\n",
              "      <td>ANSL_75005</td>\n",
              "      <td>2005-08-17 00:00:00</td>\n",
              "      <td>2017-09-07 15:35:00</td>\n",
              "      <td>0.0</td>\n",
              "      <td>Black</td>\n",
              "      <td>0.87</td>\n",
              "      <td>42.73</td>\n",
              "      <td>0</td>\n",
              "      <td>7</td>\n",
              "    </tr>\n",
              "    <tr>\n",
              "      <th>1</th>\n",
              "      <td>ANSL_76663</td>\n",
              "      <td>2018-11-15 00:00:00</td>\n",
              "      <td>2019-05-08 17:24:00</td>\n",
              "      <td>1.0</td>\n",
              "      <td>Orange Tabby</td>\n",
              "      <td>0.06</td>\n",
              "      <td>6.71</td>\n",
              "      <td>0</td>\n",
              "      <td>1</td>\n",
              "    </tr>\n",
              "    <tr>\n",
              "      <th>2</th>\n",
              "      <td>ANSL_58259</td>\n",
              "      <td>2012-10-11 00:00:00</td>\n",
              "      <td>2018-04-02 16:51:00</td>\n",
              "      <td>1.0</td>\n",
              "      <td>Black</td>\n",
              "      <td>0.24</td>\n",
              "      <td>41.21</td>\n",
              "      <td>0</td>\n",
              "      <td>7</td>\n",
              "    </tr>\n",
              "    <tr>\n",
              "      <th>3</th>\n",
              "      <td>ANSL_67171</td>\n",
              "      <td>2015-02-13 00:00:00</td>\n",
              "      <td>2018-04-06 07:25:00</td>\n",
              "      <td>1.0</td>\n",
              "      <td>Black</td>\n",
              "      <td>0.29</td>\n",
              "      <td>8.46</td>\n",
              "      <td>7</td>\n",
              "      <td>1</td>\n",
              "    </tr>\n",
              "    <tr>\n",
              "      <th>4</th>\n",
              "      <td>ANSL_72871</td>\n",
              "      <td>2017-01-18 00:00:00</td>\n",
              "      <td>2018-04-26 13:42:00</td>\n",
              "      <td>1.0</td>\n",
              "      <td>Brown</td>\n",
              "      <td>0.71</td>\n",
              "      <td>30.92</td>\n",
              "      <td>0</td>\n",
              "      <td>7</td>\n",
              "    </tr>\n",
              "  </tbody>\n",
              "</table>\n",
              "</div>\n",
              "      <button class=\"colab-df-convert\" onclick=\"convertToInteractive('df-ca0055a4-7d4d-4640-93c2-08a517bc7aa1')\"\n",
              "              title=\"Convert this dataframe to an interactive table.\"\n",
              "              style=\"display:none;\">\n",
              "        \n",
              "  <svg xmlns=\"http://www.w3.org/2000/svg\" height=\"24px\"viewBox=\"0 0 24 24\"\n",
              "       width=\"24px\">\n",
              "    <path d=\"M0 0h24v24H0V0z\" fill=\"none\"/>\n",
              "    <path d=\"M18.56 5.44l.94 2.06.94-2.06 2.06-.94-2.06-.94-.94-2.06-.94 2.06-2.06.94zm-11 1L8.5 8.5l.94-2.06 2.06-.94-2.06-.94L8.5 2.5l-.94 2.06-2.06.94zm10 10l.94 2.06.94-2.06 2.06-.94-2.06-.94-.94-2.06-.94 2.06-2.06.94z\"/><path d=\"M17.41 7.96l-1.37-1.37c-.4-.4-.92-.59-1.43-.59-.52 0-1.04.2-1.43.59L10.3 9.45l-7.72 7.72c-.78.78-.78 2.05 0 2.83L4 21.41c.39.39.9.59 1.41.59.51 0 1.02-.2 1.41-.59l7.78-7.78 2.81-2.81c.8-.78.8-2.07 0-2.86zM5.41 20L4 18.59l7.72-7.72 1.47 1.35L5.41 20z\"/>\n",
              "  </svg>\n",
              "      </button>\n",
              "      \n",
              "  <style>\n",
              "    .colab-df-container {\n",
              "      display:flex;\n",
              "      flex-wrap:wrap;\n",
              "      gap: 12px;\n",
              "    }\n",
              "\n",
              "    .colab-df-convert {\n",
              "      background-color: #E8F0FE;\n",
              "      border: none;\n",
              "      border-radius: 50%;\n",
              "      cursor: pointer;\n",
              "      display: none;\n",
              "      fill: #1967D2;\n",
              "      height: 32px;\n",
              "      padding: 0 0 0 0;\n",
              "      width: 32px;\n",
              "    }\n",
              "\n",
              "    .colab-df-convert:hover {\n",
              "      background-color: #E2EBFA;\n",
              "      box-shadow: 0px 1px 2px rgba(60, 64, 67, 0.3), 0px 1px 3px 1px rgba(60, 64, 67, 0.15);\n",
              "      fill: #174EA6;\n",
              "    }\n",
              "\n",
              "    [theme=dark] .colab-df-convert {\n",
              "      background-color: #3B4455;\n",
              "      fill: #D2E3FC;\n",
              "    }\n",
              "\n",
              "    [theme=dark] .colab-df-convert:hover {\n",
              "      background-color: #434B5C;\n",
              "      box-shadow: 0px 1px 3px 1px rgba(0, 0, 0, 0.15);\n",
              "      filter: drop-shadow(0px 1px 2px rgba(0, 0, 0, 0.3));\n",
              "      fill: #FFFFFF;\n",
              "    }\n",
              "  </style>\n",
              "\n",
              "      <script>\n",
              "        const buttonEl =\n",
              "          document.querySelector('#df-ca0055a4-7d4d-4640-93c2-08a517bc7aa1 button.colab-df-convert');\n",
              "        buttonEl.style.display =\n",
              "          google.colab.kernel.accessAllowed ? 'block' : 'none';\n",
              "\n",
              "        async function convertToInteractive(key) {\n",
              "          const element = document.querySelector('#df-ca0055a4-7d4d-4640-93c2-08a517bc7aa1');\n",
              "          const dataTable =\n",
              "            await google.colab.kernel.invokeFunction('convertToInteractive',\n",
              "                                                     [key], {});\n",
              "          if (!dataTable) return;\n",
              "\n",
              "          const docLinkHtml = 'Like what you see? Visit the ' +\n",
              "            '<a target=\"_blank\" href=https://colab.research.google.com/notebooks/data_table.ipynb>data table notebook</a>'\n",
              "            + ' to learn more about interactive tables.';\n",
              "          element.innerHTML = '';\n",
              "          dataTable['output_type'] = 'display_data';\n",
              "          await google.colab.output.renderOutput(dataTable, element);\n",
              "          const docLink = document.createElement('div');\n",
              "          docLink.innerHTML = docLinkHtml;\n",
              "          element.appendChild(docLink);\n",
              "        }\n",
              "      </script>\n",
              "    </div>\n",
              "  </div>\n",
              "  "
            ],
            "text/plain": [
              "       pet_id           issue_date         listing_date  ...  height(cm) X1  X2\n",
              "0  ANSL_75005  2005-08-17 00:00:00  2017-09-07 15:35:00  ...       42.73  0   7\n",
              "1  ANSL_76663  2018-11-15 00:00:00  2019-05-08 17:24:00  ...        6.71  0   1\n",
              "2  ANSL_58259  2012-10-11 00:00:00  2018-04-02 16:51:00  ...       41.21  0   7\n",
              "3  ANSL_67171  2015-02-13 00:00:00  2018-04-06 07:25:00  ...        8.46  7   1\n",
              "4  ANSL_72871  2017-01-18 00:00:00  2018-04-26 13:42:00  ...       30.92  0   7\n",
              "\n",
              "[5 rows x 9 columns]"
            ]
          },
          "metadata": {},
          "execution_count": 39
        }
      ]
    },
    {
      "cell_type": "code",
      "source": [
        "Test_DataSets.shape"
      ],
      "metadata": {
        "colab": {
          "base_uri": "https://localhost:8080/"
        },
        "id": "mIM6D7CwEf3_",
        "outputId": "f584b185-c37f-4a9e-93fb-17f3a3611f8d"
      },
      "execution_count": 40,
      "outputs": [
        {
          "output_type": "execute_result",
          "data": {
            "text/plain": [
              "(8072, 9)"
            ]
          },
          "metadata": {},
          "execution_count": 40
        }
      ]
    },
    {
      "cell_type": "code",
      "source": [
        "Test_DataSets.isna().sum() # Check And Count Missing Values Using isna() and sum()"
      ],
      "metadata": {
        "colab": {
          "base_uri": "https://localhost:8080/"
        },
        "id": "p3aAFa01EmKM",
        "outputId": "920414d3-27b7-483f-b879-8dfb6de4a77a"
      },
      "execution_count": 41,
      "outputs": [
        {
          "output_type": "execute_result",
          "data": {
            "text/plain": [
              "pet_id            0\n",
              "issue_date        0\n",
              "listing_date      0\n",
              "condition       619\n",
              "color_type        0\n",
              "length(m)         0\n",
              "height(cm)        0\n",
              "X1                0\n",
              "X2                0\n",
              "dtype: int64"
            ]
          },
          "metadata": {},
          "execution_count": 41
        }
      ]
    },
    {
      "cell_type": "code",
      "source": [
        "Test_DataSets = Test_DataSets.fillna(method=\"ffill\")\n",
        "Test_DataSets.isna().sum()"
      ],
      "metadata": {
        "colab": {
          "base_uri": "https://localhost:8080/"
        },
        "id": "7asORKyf8COc",
        "outputId": "ec7cd4f8-f7d5-4450-fc69-35e610687185"
      },
      "execution_count": 42,
      "outputs": [
        {
          "output_type": "execute_result",
          "data": {
            "text/plain": [
              "pet_id          0\n",
              "issue_date      0\n",
              "listing_date    0\n",
              "condition       0\n",
              "color_type      0\n",
              "length(m)       0\n",
              "height(cm)      0\n",
              "X1              0\n",
              "X2              0\n",
              "dtype: int64"
            ]
          },
          "metadata": {},
          "execution_count": 42
        }
      ]
    },
    {
      "cell_type": "code",
      "source": [
        "Test_issue_data = pd.to_datetime(Test_DataSets.issue_date)\n",
        "Test_issue_data"
      ],
      "metadata": {
        "colab": {
          "base_uri": "https://localhost:8080/"
        },
        "id": "sNSz5bqwFV_y",
        "outputId": "1e732cd7-c431-4675-e19b-8f17899bc35f"
      },
      "execution_count": 43,
      "outputs": [
        {
          "output_type": "execute_result",
          "data": {
            "text/plain": [
              "0      2005-08-17\n",
              "1      2018-11-15\n",
              "2      2012-10-11\n",
              "3      2015-02-13\n",
              "4      2017-01-18\n",
              "          ...    \n",
              "8067   2016-02-10\n",
              "8068   2015-12-07\n",
              "8069   2015-12-08\n",
              "8070   2016-06-28\n",
              "8071   2016-02-02\n",
              "Name: issue_date, Length: 8072, dtype: datetime64[ns]"
            ]
          },
          "metadata": {},
          "execution_count": 43
        }
      ]
    },
    {
      "cell_type": "code",
      "source": [
        "Test_listing_date = pd.to_datetime(Test_DataSets.listing_date)\n",
        "Test_listing_date"
      ],
      "metadata": {
        "colab": {
          "base_uri": "https://localhost:8080/"
        },
        "id": "y1IKP82ZGD-4",
        "outputId": "983a3ea4-3d1f-4e5a-b071-25ee9d18ca1a"
      },
      "execution_count": 44,
      "outputs": [
        {
          "output_type": "execute_result",
          "data": {
            "text/plain": [
              "0      2017-09-07 15:35:00\n",
              "1      2019-05-08 17:24:00\n",
              "2      2018-04-02 16:51:00\n",
              "3      2018-04-06 07:25:00\n",
              "4      2018-04-26 13:42:00\n",
              "               ...        \n",
              "8067   2017-03-10 14:56:00\n",
              "8068   2018-02-12 00:00:00\n",
              "8069   2017-01-04 17:19:00\n",
              "8070   2017-07-20 18:19:00\n",
              "8071   2017-02-28 16:47:00\n",
              "Name: listing_date, Length: 8072, dtype: datetime64[ns]"
            ]
          },
          "metadata": {},
          "execution_count": 44
        }
      ]
    },
    {
      "cell_type": "code",
      "source": [
        "Test_DataSets[\"Time_Diff\"] = Test_listing_date - Test_issue_data\n",
        "Test_DataSets.Time_Diff"
      ],
      "metadata": {
        "colab": {
          "base_uri": "https://localhost:8080/"
        },
        "id": "Hel_kTgLGRG-",
        "outputId": "16b2797f-e0a2-40be-dbda-92f4724b5321"
      },
      "execution_count": 45,
      "outputs": [
        {
          "output_type": "execute_result",
          "data": {
            "text/plain": [
              "0      4404 days 15:35:00\n",
              "1       174 days 17:24:00\n",
              "2      1999 days 16:51:00\n",
              "3      1148 days 07:25:00\n",
              "4       463 days 13:42:00\n",
              "              ...        \n",
              "8067    394 days 14:56:00\n",
              "8068    798 days 00:00:00\n",
              "8069    393 days 17:19:00\n",
              "8070    387 days 18:19:00\n",
              "8071    392 days 16:47:00\n",
              "Name: Time_Diff, Length: 8072, dtype: timedelta64[ns]"
            ]
          },
          "metadata": {},
          "execution_count": 45
        }
      ]
    },
    {
      "cell_type": "code",
      "source": [
        "Test_DataSets[\"Time_Diff\"] = Test_DataSets.Time_Diff.dt.total_seconds()\n",
        "\n",
        "Test_DataSets.Time_Diff"
      ],
      "metadata": {
        "colab": {
          "base_uri": "https://localhost:8080/"
        },
        "id": "5mOYSEoVHI4p",
        "outputId": "cb216c21-b30a-4f9a-b335-f0e89b6d872a"
      },
      "execution_count": 46,
      "outputs": [
        {
          "output_type": "execute_result",
          "data": {
            "text/plain": [
              "0       380561700.0\n",
              "1        15096240.0\n",
              "2       172774260.0\n",
              "3        99213900.0\n",
              "4        40052520.0\n",
              "           ...     \n",
              "8067     34095360.0\n",
              "8068     68947200.0\n",
              "8069     34017540.0\n",
              "8070     33502740.0\n",
              "8071     33929220.0\n",
              "Name: Time_Diff, Length: 8072, dtype: float64"
            ]
          },
          "metadata": {},
          "execution_count": 46
        }
      ]
    },
    {
      "cell_type": "code",
      "source": [
        "Test_DataSets[\"Time_Diff\"] = np.log1p(Test_DataSets['Time_Diff'])\n",
        "Test_DataSets.Time_Diff"
      ],
      "metadata": {
        "colab": {
          "base_uri": "https://localhost:8080/"
        },
        "id": "DUxyqi2eHQv5",
        "outputId": "02d7d003-57d6-4e0b-9198-cbad26c0424b"
      },
      "execution_count": 47,
      "outputs": [
        {
          "output_type": "execute_result",
          "data": {
            "text/plain": [
              "0       19.757159\n",
              "1       16.529956\n",
              "2       18.967496\n",
              "3       18.412789\n",
              "4       17.505702\n",
              "          ...    \n",
              "8067    17.344672\n",
              "8068    18.048852\n",
              "8069    17.342387\n",
              "8070    17.327138\n",
              "8071    17.339787\n",
              "Name: Time_Diff, Length: 8072, dtype: float64"
            ]
          },
          "metadata": {},
          "execution_count": 47
        }
      ]
    },
    {
      "cell_type": "code",
      "source": [
        "from sklearn.preprocessing import LabelEncoder\n",
        "col=['color_type']\n",
        "for c in col:\n",
        "  LabelEncoder=LabelEncoder()\n",
        "  Test_DataSets['color_type']=LabelEncoder.fit_transform(Test_DataSets.color_type)\n",
        "Test_DataSets.head()"
      ],
      "metadata": {
        "colab": {
          "base_uri": "https://localhost:8080/",
          "height": 206
        },
        "id": "vfFuPgEhJUu-",
        "outputId": "a03b7167-61fa-48b8-f2d9-34764f693748"
      },
      "execution_count": 48,
      "outputs": [
        {
          "output_type": "execute_result",
          "data": {
            "text/html": [
              "\n",
              "  <div id=\"df-79b8460b-30b3-4228-9943-0035f433728f\">\n",
              "    <div class=\"colab-df-container\">\n",
              "      <div>\n",
              "<style scoped>\n",
              "    .dataframe tbody tr th:only-of-type {\n",
              "        vertical-align: middle;\n",
              "    }\n",
              "\n",
              "    .dataframe tbody tr th {\n",
              "        vertical-align: top;\n",
              "    }\n",
              "\n",
              "    .dataframe thead th {\n",
              "        text-align: right;\n",
              "    }\n",
              "</style>\n",
              "<table border=\"1\" class=\"dataframe\">\n",
              "  <thead>\n",
              "    <tr style=\"text-align: right;\">\n",
              "      <th></th>\n",
              "      <th>pet_id</th>\n",
              "      <th>issue_date</th>\n",
              "      <th>listing_date</th>\n",
              "      <th>condition</th>\n",
              "      <th>color_type</th>\n",
              "      <th>length(m)</th>\n",
              "      <th>height(cm)</th>\n",
              "      <th>X1</th>\n",
              "      <th>X2</th>\n",
              "      <th>Time_Diff</th>\n",
              "    </tr>\n",
              "  </thead>\n",
              "  <tbody>\n",
              "    <tr>\n",
              "      <th>0</th>\n",
              "      <td>ANSL_75005</td>\n",
              "      <td>2005-08-17 00:00:00</td>\n",
              "      <td>2017-09-07 15:35:00</td>\n",
              "      <td>0.0</td>\n",
              "      <td>2</td>\n",
              "      <td>0.87</td>\n",
              "      <td>42.73</td>\n",
              "      <td>0</td>\n",
              "      <td>7</td>\n",
              "      <td>19.757159</td>\n",
              "    </tr>\n",
              "    <tr>\n",
              "      <th>1</th>\n",
              "      <td>ANSL_76663</td>\n",
              "      <td>2018-11-15 00:00:00</td>\n",
              "      <td>2019-05-08 17:24:00</td>\n",
              "      <td>1.0</td>\n",
              "      <td>36</td>\n",
              "      <td>0.06</td>\n",
              "      <td>6.71</td>\n",
              "      <td>0</td>\n",
              "      <td>1</td>\n",
              "      <td>16.529956</td>\n",
              "    </tr>\n",
              "    <tr>\n",
              "      <th>2</th>\n",
              "      <td>ANSL_58259</td>\n",
              "      <td>2012-10-11 00:00:00</td>\n",
              "      <td>2018-04-02 16:51:00</td>\n",
              "      <td>1.0</td>\n",
              "      <td>2</td>\n",
              "      <td>0.24</td>\n",
              "      <td>41.21</td>\n",
              "      <td>0</td>\n",
              "      <td>7</td>\n",
              "      <td>18.967496</td>\n",
              "    </tr>\n",
              "    <tr>\n",
              "      <th>3</th>\n",
              "      <td>ANSL_67171</td>\n",
              "      <td>2015-02-13 00:00:00</td>\n",
              "      <td>2018-04-06 07:25:00</td>\n",
              "      <td>1.0</td>\n",
              "      <td>2</td>\n",
              "      <td>0.29</td>\n",
              "      <td>8.46</td>\n",
              "      <td>7</td>\n",
              "      <td>1</td>\n",
              "      <td>18.412789</td>\n",
              "    </tr>\n",
              "    <tr>\n",
              "      <th>4</th>\n",
              "      <td>ANSL_72871</td>\n",
              "      <td>2017-01-18 00:00:00</td>\n",
              "      <td>2018-04-26 13:42:00</td>\n",
              "      <td>1.0</td>\n",
              "      <td>14</td>\n",
              "      <td>0.71</td>\n",
              "      <td>30.92</td>\n",
              "      <td>0</td>\n",
              "      <td>7</td>\n",
              "      <td>17.505702</td>\n",
              "    </tr>\n",
              "  </tbody>\n",
              "</table>\n",
              "</div>\n",
              "      <button class=\"colab-df-convert\" onclick=\"convertToInteractive('df-79b8460b-30b3-4228-9943-0035f433728f')\"\n",
              "              title=\"Convert this dataframe to an interactive table.\"\n",
              "              style=\"display:none;\">\n",
              "        \n",
              "  <svg xmlns=\"http://www.w3.org/2000/svg\" height=\"24px\"viewBox=\"0 0 24 24\"\n",
              "       width=\"24px\">\n",
              "    <path d=\"M0 0h24v24H0V0z\" fill=\"none\"/>\n",
              "    <path d=\"M18.56 5.44l.94 2.06.94-2.06 2.06-.94-2.06-.94-.94-2.06-.94 2.06-2.06.94zm-11 1L8.5 8.5l.94-2.06 2.06-.94-2.06-.94L8.5 2.5l-.94 2.06-2.06.94zm10 10l.94 2.06.94-2.06 2.06-.94-2.06-.94-.94-2.06-.94 2.06-2.06.94z\"/><path d=\"M17.41 7.96l-1.37-1.37c-.4-.4-.92-.59-1.43-.59-.52 0-1.04.2-1.43.59L10.3 9.45l-7.72 7.72c-.78.78-.78 2.05 0 2.83L4 21.41c.39.39.9.59 1.41.59.51 0 1.02-.2 1.41-.59l7.78-7.78 2.81-2.81c.8-.78.8-2.07 0-2.86zM5.41 20L4 18.59l7.72-7.72 1.47 1.35L5.41 20z\"/>\n",
              "  </svg>\n",
              "      </button>\n",
              "      \n",
              "  <style>\n",
              "    .colab-df-container {\n",
              "      display:flex;\n",
              "      flex-wrap:wrap;\n",
              "      gap: 12px;\n",
              "    }\n",
              "\n",
              "    .colab-df-convert {\n",
              "      background-color: #E8F0FE;\n",
              "      border: none;\n",
              "      border-radius: 50%;\n",
              "      cursor: pointer;\n",
              "      display: none;\n",
              "      fill: #1967D2;\n",
              "      height: 32px;\n",
              "      padding: 0 0 0 0;\n",
              "      width: 32px;\n",
              "    }\n",
              "\n",
              "    .colab-df-convert:hover {\n",
              "      background-color: #E2EBFA;\n",
              "      box-shadow: 0px 1px 2px rgba(60, 64, 67, 0.3), 0px 1px 3px 1px rgba(60, 64, 67, 0.15);\n",
              "      fill: #174EA6;\n",
              "    }\n",
              "\n",
              "    [theme=dark] .colab-df-convert {\n",
              "      background-color: #3B4455;\n",
              "      fill: #D2E3FC;\n",
              "    }\n",
              "\n",
              "    [theme=dark] .colab-df-convert:hover {\n",
              "      background-color: #434B5C;\n",
              "      box-shadow: 0px 1px 3px 1px rgba(0, 0, 0, 0.15);\n",
              "      filter: drop-shadow(0px 1px 2px rgba(0, 0, 0, 0.3));\n",
              "      fill: #FFFFFF;\n",
              "    }\n",
              "  </style>\n",
              "\n",
              "      <script>\n",
              "        const buttonEl =\n",
              "          document.querySelector('#df-79b8460b-30b3-4228-9943-0035f433728f button.colab-df-convert');\n",
              "        buttonEl.style.display =\n",
              "          google.colab.kernel.accessAllowed ? 'block' : 'none';\n",
              "\n",
              "        async function convertToInteractive(key) {\n",
              "          const element = document.querySelector('#df-79b8460b-30b3-4228-9943-0035f433728f');\n",
              "          const dataTable =\n",
              "            await google.colab.kernel.invokeFunction('convertToInteractive',\n",
              "                                                     [key], {});\n",
              "          if (!dataTable) return;\n",
              "\n",
              "          const docLinkHtml = 'Like what you see? Visit the ' +\n",
              "            '<a target=\"_blank\" href=https://colab.research.google.com/notebooks/data_table.ipynb>data table notebook</a>'\n",
              "            + ' to learn more about interactive tables.';\n",
              "          element.innerHTML = '';\n",
              "          dataTable['output_type'] = 'display_data';\n",
              "          await google.colab.output.renderOutput(dataTable, element);\n",
              "          const docLink = document.createElement('div');\n",
              "          docLink.innerHTML = docLinkHtml;\n",
              "          element.appendChild(docLink);\n",
              "        }\n",
              "      </script>\n",
              "    </div>\n",
              "  </div>\n",
              "  "
            ],
            "text/plain": [
              "       pet_id           issue_date         listing_date  ...  X1  X2  Time_Diff\n",
              "0  ANSL_75005  2005-08-17 00:00:00  2017-09-07 15:35:00  ...   0   7  19.757159\n",
              "1  ANSL_76663  2018-11-15 00:00:00  2019-05-08 17:24:00  ...   0   1  16.529956\n",
              "2  ANSL_58259  2012-10-11 00:00:00  2018-04-02 16:51:00  ...   0   7  18.967496\n",
              "3  ANSL_67171  2015-02-13 00:00:00  2018-04-06 07:25:00  ...   7   1  18.412789\n",
              "4  ANSL_72871  2017-01-18 00:00:00  2018-04-26 13:42:00  ...   0   7  17.505702\n",
              "\n",
              "[5 rows x 10 columns]"
            ]
          },
          "metadata": {},
          "execution_count": 48
        }
      ]
    },
    {
      "cell_type": "code",
      "source": [
        "Test_Features = Test_DataSets.iloc[:,3:]\n",
        "Test_Features"
      ],
      "metadata": {
        "colab": {
          "base_uri": "https://localhost:8080/",
          "height": 424
        },
        "id": "E6TGREaKKdVE",
        "outputId": "9b9107cc-4328-4764-bccc-41de74ac0268"
      },
      "execution_count": 49,
      "outputs": [
        {
          "output_type": "execute_result",
          "data": {
            "text/html": [
              "\n",
              "  <div id=\"df-b8d9bd7b-3194-48df-b866-b09c74e53f2c\">\n",
              "    <div class=\"colab-df-container\">\n",
              "      <div>\n",
              "<style scoped>\n",
              "    .dataframe tbody tr th:only-of-type {\n",
              "        vertical-align: middle;\n",
              "    }\n",
              "\n",
              "    .dataframe tbody tr th {\n",
              "        vertical-align: top;\n",
              "    }\n",
              "\n",
              "    .dataframe thead th {\n",
              "        text-align: right;\n",
              "    }\n",
              "</style>\n",
              "<table border=\"1\" class=\"dataframe\">\n",
              "  <thead>\n",
              "    <tr style=\"text-align: right;\">\n",
              "      <th></th>\n",
              "      <th>condition</th>\n",
              "      <th>color_type</th>\n",
              "      <th>length(m)</th>\n",
              "      <th>height(cm)</th>\n",
              "      <th>X1</th>\n",
              "      <th>X2</th>\n",
              "      <th>Time_Diff</th>\n",
              "    </tr>\n",
              "  </thead>\n",
              "  <tbody>\n",
              "    <tr>\n",
              "      <th>0</th>\n",
              "      <td>0.0</td>\n",
              "      <td>2</td>\n",
              "      <td>0.87</td>\n",
              "      <td>42.73</td>\n",
              "      <td>0</td>\n",
              "      <td>7</td>\n",
              "      <td>19.757159</td>\n",
              "    </tr>\n",
              "    <tr>\n",
              "      <th>1</th>\n",
              "      <td>1.0</td>\n",
              "      <td>36</td>\n",
              "      <td>0.06</td>\n",
              "      <td>6.71</td>\n",
              "      <td>0</td>\n",
              "      <td>1</td>\n",
              "      <td>16.529956</td>\n",
              "    </tr>\n",
              "    <tr>\n",
              "      <th>2</th>\n",
              "      <td>1.0</td>\n",
              "      <td>2</td>\n",
              "      <td>0.24</td>\n",
              "      <td>41.21</td>\n",
              "      <td>0</td>\n",
              "      <td>7</td>\n",
              "      <td>18.967496</td>\n",
              "    </tr>\n",
              "    <tr>\n",
              "      <th>3</th>\n",
              "      <td>1.0</td>\n",
              "      <td>2</td>\n",
              "      <td>0.29</td>\n",
              "      <td>8.46</td>\n",
              "      <td>7</td>\n",
              "      <td>1</td>\n",
              "      <td>18.412789</td>\n",
              "    </tr>\n",
              "    <tr>\n",
              "      <th>4</th>\n",
              "      <td>1.0</td>\n",
              "      <td>14</td>\n",
              "      <td>0.71</td>\n",
              "      <td>30.92</td>\n",
              "      <td>0</td>\n",
              "      <td>7</td>\n",
              "      <td>17.505702</td>\n",
              "    </tr>\n",
              "    <tr>\n",
              "      <th>...</th>\n",
              "      <td>...</td>\n",
              "      <td>...</td>\n",
              "      <td>...</td>\n",
              "      <td>...</td>\n",
              "      <td>...</td>\n",
              "      <td>...</td>\n",
              "      <td>...</td>\n",
              "    </tr>\n",
              "    <tr>\n",
              "      <th>8067</th>\n",
              "      <td>2.0</td>\n",
              "      <td>14</td>\n",
              "      <td>0.82</td>\n",
              "      <td>36.08</td>\n",
              "      <td>13</td>\n",
              "      <td>9</td>\n",
              "      <td>17.344672</td>\n",
              "    </tr>\n",
              "    <tr>\n",
              "      <th>8068</th>\n",
              "      <td>0.0</td>\n",
              "      <td>46</td>\n",
              "      <td>0.49</td>\n",
              "      <td>27.54</td>\n",
              "      <td>13</td>\n",
              "      <td>9</td>\n",
              "      <td>18.048852</td>\n",
              "    </tr>\n",
              "    <tr>\n",
              "      <th>8069</th>\n",
              "      <td>0.0</td>\n",
              "      <td>2</td>\n",
              "      <td>0.98</td>\n",
              "      <td>37.19</td>\n",
              "      <td>0</td>\n",
              "      <td>7</td>\n",
              "      <td>17.342387</td>\n",
              "    </tr>\n",
              "    <tr>\n",
              "      <th>8070</th>\n",
              "      <td>0.0</td>\n",
              "      <td>2</td>\n",
              "      <td>0.79</td>\n",
              "      <td>23.83</td>\n",
              "      <td>0</td>\n",
              "      <td>2</td>\n",
              "      <td>17.327138</td>\n",
              "    </tr>\n",
              "    <tr>\n",
              "      <th>8071</th>\n",
              "      <td>0.0</td>\n",
              "      <td>2</td>\n",
              "      <td>0.64</td>\n",
              "      <td>24.51</td>\n",
              "      <td>0</td>\n",
              "      <td>1</td>\n",
              "      <td>17.339787</td>\n",
              "    </tr>\n",
              "  </tbody>\n",
              "</table>\n",
              "<p>8072 rows × 7 columns</p>\n",
              "</div>\n",
              "      <button class=\"colab-df-convert\" onclick=\"convertToInteractive('df-b8d9bd7b-3194-48df-b866-b09c74e53f2c')\"\n",
              "              title=\"Convert this dataframe to an interactive table.\"\n",
              "              style=\"display:none;\">\n",
              "        \n",
              "  <svg xmlns=\"http://www.w3.org/2000/svg\" height=\"24px\"viewBox=\"0 0 24 24\"\n",
              "       width=\"24px\">\n",
              "    <path d=\"M0 0h24v24H0V0z\" fill=\"none\"/>\n",
              "    <path d=\"M18.56 5.44l.94 2.06.94-2.06 2.06-.94-2.06-.94-.94-2.06-.94 2.06-2.06.94zm-11 1L8.5 8.5l.94-2.06 2.06-.94-2.06-.94L8.5 2.5l-.94 2.06-2.06.94zm10 10l.94 2.06.94-2.06 2.06-.94-2.06-.94-.94-2.06-.94 2.06-2.06.94z\"/><path d=\"M17.41 7.96l-1.37-1.37c-.4-.4-.92-.59-1.43-.59-.52 0-1.04.2-1.43.59L10.3 9.45l-7.72 7.72c-.78.78-.78 2.05 0 2.83L4 21.41c.39.39.9.59 1.41.59.51 0 1.02-.2 1.41-.59l7.78-7.78 2.81-2.81c.8-.78.8-2.07 0-2.86zM5.41 20L4 18.59l7.72-7.72 1.47 1.35L5.41 20z\"/>\n",
              "  </svg>\n",
              "      </button>\n",
              "      \n",
              "  <style>\n",
              "    .colab-df-container {\n",
              "      display:flex;\n",
              "      flex-wrap:wrap;\n",
              "      gap: 12px;\n",
              "    }\n",
              "\n",
              "    .colab-df-convert {\n",
              "      background-color: #E8F0FE;\n",
              "      border: none;\n",
              "      border-radius: 50%;\n",
              "      cursor: pointer;\n",
              "      display: none;\n",
              "      fill: #1967D2;\n",
              "      height: 32px;\n",
              "      padding: 0 0 0 0;\n",
              "      width: 32px;\n",
              "    }\n",
              "\n",
              "    .colab-df-convert:hover {\n",
              "      background-color: #E2EBFA;\n",
              "      box-shadow: 0px 1px 2px rgba(60, 64, 67, 0.3), 0px 1px 3px 1px rgba(60, 64, 67, 0.15);\n",
              "      fill: #174EA6;\n",
              "    }\n",
              "\n",
              "    [theme=dark] .colab-df-convert {\n",
              "      background-color: #3B4455;\n",
              "      fill: #D2E3FC;\n",
              "    }\n",
              "\n",
              "    [theme=dark] .colab-df-convert:hover {\n",
              "      background-color: #434B5C;\n",
              "      box-shadow: 0px 1px 3px 1px rgba(0, 0, 0, 0.15);\n",
              "      filter: drop-shadow(0px 1px 2px rgba(0, 0, 0, 0.3));\n",
              "      fill: #FFFFFF;\n",
              "    }\n",
              "  </style>\n",
              "\n",
              "      <script>\n",
              "        const buttonEl =\n",
              "          document.querySelector('#df-b8d9bd7b-3194-48df-b866-b09c74e53f2c button.colab-df-convert');\n",
              "        buttonEl.style.display =\n",
              "          google.colab.kernel.accessAllowed ? 'block' : 'none';\n",
              "\n",
              "        async function convertToInteractive(key) {\n",
              "          const element = document.querySelector('#df-b8d9bd7b-3194-48df-b866-b09c74e53f2c');\n",
              "          const dataTable =\n",
              "            await google.colab.kernel.invokeFunction('convertToInteractive',\n",
              "                                                     [key], {});\n",
              "          if (!dataTable) return;\n",
              "\n",
              "          const docLinkHtml = 'Like what you see? Visit the ' +\n",
              "            '<a target=\"_blank\" href=https://colab.research.google.com/notebooks/data_table.ipynb>data table notebook</a>'\n",
              "            + ' to learn more about interactive tables.';\n",
              "          element.innerHTML = '';\n",
              "          dataTable['output_type'] = 'display_data';\n",
              "          await google.colab.output.renderOutput(dataTable, element);\n",
              "          const docLink = document.createElement('div');\n",
              "          docLink.innerHTML = docLinkHtml;\n",
              "          element.appendChild(docLink);\n",
              "        }\n",
              "      </script>\n",
              "    </div>\n",
              "  </div>\n",
              "  "
            ],
            "text/plain": [
              "      condition  color_type  length(m)  height(cm)  X1  X2  Time_Diff\n",
              "0           0.0           2       0.87       42.73   0   7  19.757159\n",
              "1           1.0          36       0.06        6.71   0   1  16.529956\n",
              "2           1.0           2       0.24       41.21   0   7  18.967496\n",
              "3           1.0           2       0.29        8.46   7   1  18.412789\n",
              "4           1.0          14       0.71       30.92   0   7  17.505702\n",
              "...         ...         ...        ...         ...  ..  ..        ...\n",
              "8067        2.0          14       0.82       36.08  13   9  17.344672\n",
              "8068        0.0          46       0.49       27.54  13   9  18.048852\n",
              "8069        0.0           2       0.98       37.19   0   7  17.342387\n",
              "8070        0.0           2       0.79       23.83   0   2  17.327138\n",
              "8071        0.0           2       0.64       24.51   0   1  17.339787\n",
              "\n",
              "[8072 rows x 7 columns]"
            ]
          },
          "metadata": {},
          "execution_count": 49
        }
      ]
    },
    {
      "cell_type": "code",
      "source": [
        "finally_Pred= XGB_Model.predict(Test_Features)\n",
        "finally_Pred = pd.Series(finally_Pred)\n",
        "finally_Pred"
      ],
      "metadata": {
        "colab": {
          "base_uri": "https://localhost:8080/"
        },
        "id": "RmGO9U8w8hsz",
        "outputId": "405f2110-1020-484e-8c8a-25bd8c8f3974"
      },
      "execution_count": 50,
      "outputs": [
        {
          "output_type": "execute_result",
          "data": {
            "text/plain": [
              "0       2\n",
              "1       1\n",
              "2       2\n",
              "3       2\n",
              "4       2\n",
              "       ..\n",
              "8067    2\n",
              "8068    2\n",
              "8069    2\n",
              "8070    2\n",
              "8071    2\n",
              "Length: 8072, dtype: int64"
            ]
          },
          "metadata": {},
          "execution_count": 50
        }
      ]
    },
    {
      "cell_type": "code",
      "source": [
        "XGB_Model.fit(X1_train,y1_train)\n",
        "finally_Pred1= XGB_Model.predict(Test_Features)\n",
        "finally_Pred1 = pd.Series(finally_Pred1)\n",
        "finally_Pred1"
      ],
      "metadata": {
        "colab": {
          "base_uri": "https://localhost:8080/"
        },
        "id": "mlpWFGUBHft9",
        "outputId": "8b2f169c-ae97-44b0-b430-365219fe41b0"
      },
      "execution_count": 51,
      "outputs": [
        {
          "output_type": "execute_result",
          "data": {
            "text/plain": [
              "0       1.0\n",
              "1       0.0\n",
              "2       0.0\n",
              "3       0.0\n",
              "4       0.0\n",
              "       ... \n",
              "8067    1.0\n",
              "8068    1.0\n",
              "8069    1.0\n",
              "8070    2.0\n",
              "8071    1.0\n",
              "Length: 8072, dtype: float64"
            ]
          },
          "metadata": {},
          "execution_count": 51
        }
      ]
    },
    {
      "cell_type": "code",
      "source": [
        "Csv_file= pd.DataFrame(data={\"pet_id\":Test_DataSets.pet_id ,\"breed_category\":finally_Pred1 ,\"pet_category\":finally_Pred })\n",
        "Csv_file"
      ],
      "metadata": {
        "colab": {
          "base_uri": "https://localhost:8080/",
          "height": 424
        },
        "id": "S_GOw6nSIund",
        "outputId": "e10cb25b-365e-40b5-c992-1fc0d0e622a2"
      },
      "execution_count": 52,
      "outputs": [
        {
          "output_type": "execute_result",
          "data": {
            "text/html": [
              "\n",
              "  <div id=\"df-e6555348-4f59-4d4f-8745-881e0a7b00fb\">\n",
              "    <div class=\"colab-df-container\">\n",
              "      <div>\n",
              "<style scoped>\n",
              "    .dataframe tbody tr th:only-of-type {\n",
              "        vertical-align: middle;\n",
              "    }\n",
              "\n",
              "    .dataframe tbody tr th {\n",
              "        vertical-align: top;\n",
              "    }\n",
              "\n",
              "    .dataframe thead th {\n",
              "        text-align: right;\n",
              "    }\n",
              "</style>\n",
              "<table border=\"1\" class=\"dataframe\">\n",
              "  <thead>\n",
              "    <tr style=\"text-align: right;\">\n",
              "      <th></th>\n",
              "      <th>pet_id</th>\n",
              "      <th>breed_category</th>\n",
              "      <th>pet_category</th>\n",
              "    </tr>\n",
              "  </thead>\n",
              "  <tbody>\n",
              "    <tr>\n",
              "      <th>0</th>\n",
              "      <td>ANSL_75005</td>\n",
              "      <td>1.0</td>\n",
              "      <td>2</td>\n",
              "    </tr>\n",
              "    <tr>\n",
              "      <th>1</th>\n",
              "      <td>ANSL_76663</td>\n",
              "      <td>0.0</td>\n",
              "      <td>1</td>\n",
              "    </tr>\n",
              "    <tr>\n",
              "      <th>2</th>\n",
              "      <td>ANSL_58259</td>\n",
              "      <td>0.0</td>\n",
              "      <td>2</td>\n",
              "    </tr>\n",
              "    <tr>\n",
              "      <th>3</th>\n",
              "      <td>ANSL_67171</td>\n",
              "      <td>0.0</td>\n",
              "      <td>2</td>\n",
              "    </tr>\n",
              "    <tr>\n",
              "      <th>4</th>\n",
              "      <td>ANSL_72871</td>\n",
              "      <td>0.0</td>\n",
              "      <td>2</td>\n",
              "    </tr>\n",
              "    <tr>\n",
              "      <th>...</th>\n",
              "      <td>...</td>\n",
              "      <td>...</td>\n",
              "      <td>...</td>\n",
              "    </tr>\n",
              "    <tr>\n",
              "      <th>8067</th>\n",
              "      <td>ANSL_66809</td>\n",
              "      <td>1.0</td>\n",
              "      <td>2</td>\n",
              "    </tr>\n",
              "    <tr>\n",
              "      <th>8068</th>\n",
              "      <td>ANSL_59041</td>\n",
              "      <td>1.0</td>\n",
              "      <td>2</td>\n",
              "    </tr>\n",
              "    <tr>\n",
              "      <th>8069</th>\n",
              "      <td>ANSL_60034</td>\n",
              "      <td>1.0</td>\n",
              "      <td>2</td>\n",
              "    </tr>\n",
              "    <tr>\n",
              "      <th>8070</th>\n",
              "      <td>ANSL_58066</td>\n",
              "      <td>2.0</td>\n",
              "      <td>2</td>\n",
              "    </tr>\n",
              "    <tr>\n",
              "      <th>8071</th>\n",
              "      <td>ANSL_69436</td>\n",
              "      <td>1.0</td>\n",
              "      <td>2</td>\n",
              "    </tr>\n",
              "  </tbody>\n",
              "</table>\n",
              "<p>8072 rows × 3 columns</p>\n",
              "</div>\n",
              "      <button class=\"colab-df-convert\" onclick=\"convertToInteractive('df-e6555348-4f59-4d4f-8745-881e0a7b00fb')\"\n",
              "              title=\"Convert this dataframe to an interactive table.\"\n",
              "              style=\"display:none;\">\n",
              "        \n",
              "  <svg xmlns=\"http://www.w3.org/2000/svg\" height=\"24px\"viewBox=\"0 0 24 24\"\n",
              "       width=\"24px\">\n",
              "    <path d=\"M0 0h24v24H0V0z\" fill=\"none\"/>\n",
              "    <path d=\"M18.56 5.44l.94 2.06.94-2.06 2.06-.94-2.06-.94-.94-2.06-.94 2.06-2.06.94zm-11 1L8.5 8.5l.94-2.06 2.06-.94-2.06-.94L8.5 2.5l-.94 2.06-2.06.94zm10 10l.94 2.06.94-2.06 2.06-.94-2.06-.94-.94-2.06-.94 2.06-2.06.94z\"/><path d=\"M17.41 7.96l-1.37-1.37c-.4-.4-.92-.59-1.43-.59-.52 0-1.04.2-1.43.59L10.3 9.45l-7.72 7.72c-.78.78-.78 2.05 0 2.83L4 21.41c.39.39.9.59 1.41.59.51 0 1.02-.2 1.41-.59l7.78-7.78 2.81-2.81c.8-.78.8-2.07 0-2.86zM5.41 20L4 18.59l7.72-7.72 1.47 1.35L5.41 20z\"/>\n",
              "  </svg>\n",
              "      </button>\n",
              "      \n",
              "  <style>\n",
              "    .colab-df-container {\n",
              "      display:flex;\n",
              "      flex-wrap:wrap;\n",
              "      gap: 12px;\n",
              "    }\n",
              "\n",
              "    .colab-df-convert {\n",
              "      background-color: #E8F0FE;\n",
              "      border: none;\n",
              "      border-radius: 50%;\n",
              "      cursor: pointer;\n",
              "      display: none;\n",
              "      fill: #1967D2;\n",
              "      height: 32px;\n",
              "      padding: 0 0 0 0;\n",
              "      width: 32px;\n",
              "    }\n",
              "\n",
              "    .colab-df-convert:hover {\n",
              "      background-color: #E2EBFA;\n",
              "      box-shadow: 0px 1px 2px rgba(60, 64, 67, 0.3), 0px 1px 3px 1px rgba(60, 64, 67, 0.15);\n",
              "      fill: #174EA6;\n",
              "    }\n",
              "\n",
              "    [theme=dark] .colab-df-convert {\n",
              "      background-color: #3B4455;\n",
              "      fill: #D2E3FC;\n",
              "    }\n",
              "\n",
              "    [theme=dark] .colab-df-convert:hover {\n",
              "      background-color: #434B5C;\n",
              "      box-shadow: 0px 1px 3px 1px rgba(0, 0, 0, 0.15);\n",
              "      filter: drop-shadow(0px 1px 2px rgba(0, 0, 0, 0.3));\n",
              "      fill: #FFFFFF;\n",
              "    }\n",
              "  </style>\n",
              "\n",
              "      <script>\n",
              "        const buttonEl =\n",
              "          document.querySelector('#df-e6555348-4f59-4d4f-8745-881e0a7b00fb button.colab-df-convert');\n",
              "        buttonEl.style.display =\n",
              "          google.colab.kernel.accessAllowed ? 'block' : 'none';\n",
              "\n",
              "        async function convertToInteractive(key) {\n",
              "          const element = document.querySelector('#df-e6555348-4f59-4d4f-8745-881e0a7b00fb');\n",
              "          const dataTable =\n",
              "            await google.colab.kernel.invokeFunction('convertToInteractive',\n",
              "                                                     [key], {});\n",
              "          if (!dataTable) return;\n",
              "\n",
              "          const docLinkHtml = 'Like what you see? Visit the ' +\n",
              "            '<a target=\"_blank\" href=https://colab.research.google.com/notebooks/data_table.ipynb>data table notebook</a>'\n",
              "            + ' to learn more about interactive tables.';\n",
              "          element.innerHTML = '';\n",
              "          dataTable['output_type'] = 'display_data';\n",
              "          await google.colab.output.renderOutput(dataTable, element);\n",
              "          const docLink = document.createElement('div');\n",
              "          docLink.innerHTML = docLinkHtml;\n",
              "          element.appendChild(docLink);\n",
              "        }\n",
              "      </script>\n",
              "    </div>\n",
              "  </div>\n",
              "  "
            ],
            "text/plain": [
              "          pet_id  breed_category  pet_category\n",
              "0     ANSL_75005             1.0             2\n",
              "1     ANSL_76663             0.0             1\n",
              "2     ANSL_58259             0.0             2\n",
              "3     ANSL_67171             0.0             2\n",
              "4     ANSL_72871             0.0             2\n",
              "...          ...             ...           ...\n",
              "8067  ANSL_66809             1.0             2\n",
              "8068  ANSL_59041             1.0             2\n",
              "8069  ANSL_60034             1.0             2\n",
              "8070  ANSL_58066             2.0             2\n",
              "8071  ANSL_69436             1.0             2\n",
              "\n",
              "[8072 rows x 3 columns]"
            ]
          },
          "metadata": {},
          "execution_count": 52
        }
      ]
    },
    {
      "cell_type": "code",
      "source": [
        "Csv_file.to_csv(\"Submission.csv\")"
      ],
      "metadata": {
        "id": "_0bn23RBKDBX"
      },
      "execution_count": 96,
      "outputs": []
    }
  ]
}